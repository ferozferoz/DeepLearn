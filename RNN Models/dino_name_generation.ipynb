{
  "nbformat": 4,
  "nbformat_minor": 0,
  "metadata": {
    "colab": {
      "name": "name_generation.ipynb",
      "provenance": [],
      "collapsed_sections": [],
      "include_colab_link": true
    },
    "kernelspec": {
      "name": "python3",
      "display_name": "Python 3"
    }
  },
  "cells": [
    {
      "cell_type": "markdown",
      "metadata": {
        "id": "view-in-github",
        "colab_type": "text"
      },
      "source": [
        "<a href=\"https://colab.research.google.com/github/ferozferoz/DeepLearn/blob/master/dino_name_generation.ipynb\" target=\"_parent\"><img src=\"https://colab.research.google.com/assets/colab-badge.svg\" alt=\"Open In Colab\"/></a>"
      ]
    },
    {
      "cell_type": "code",
      "metadata": {
        "id": "JTllk2fme1EW",
        "colab_type": "code",
        "colab": {}
      },
      "source": [
        "import numpy as np\n",
        "from keras.models import Sequential\n",
        "from keras.preprocessing.text import Tokenizer\n",
        "from keras.layers import Dense, Embedding\n",
        "from keras.layers import LSTM"
      ],
      "execution_count": 0,
      "outputs": []
    },
    {
      "cell_type": "code",
      "metadata": {
        "id": "PMvZBqRQ7TPo",
        "colab_type": "code",
        "outputId": "13786aad-93da-4f99-d77f-3e4bb1bad5c4",
        "colab": {
          "base_uri": "https://localhost:8080/",
          "height": 129
        }
      },
      "source": [
        "from google.colab import drive\n",
        "drive.mount('/content/gdrive')"
      ],
      "execution_count": 3,
      "outputs": [
        {
          "output_type": "stream",
          "text": [
            "Go to this URL in a browser: https://accounts.google.com/o/oauth2/auth?client_id=947318989803-6bn6qk8qdgf4n4g3pfee6491hc0brc4i.apps.googleusercontent.com&redirect_uri=urn%3aietf%3awg%3aoauth%3a2.0%3aoob&response_type=code&scope=email%20https%3a%2f%2fwww.googleapis.com%2fauth%2fdocs.test%20https%3a%2f%2fwww.googleapis.com%2fauth%2fdrive%20https%3a%2f%2fwww.googleapis.com%2fauth%2fdrive.photos.readonly%20https%3a%2f%2fwww.googleapis.com%2fauth%2fpeopleapi.readonly\n",
            "\n",
            "Enter your authorization code:\n",
            "··········\n",
            "Mounted at /content/gdrive\n"
          ],
          "name": "stdout"
        }
      ]
    },
    {
      "cell_type": "code",
      "metadata": {
        "id": "-QrXILQh7xsu",
        "colab_type": "code",
        "outputId": "de7a493b-57cc-410e-8ccd-b7202e5dc165",
        "colab": {
          "base_uri": "https://localhost:8080/",
          "height": 222
        }
      },
      "source": [
        "dino_file = open('/content/gdrive/My Drive/ColabNotebooks/dinos.txt','r',encoding='UTF-8')\n",
        "\n",
        "import string\n",
        "list_of_words = [word.lower() for word in dino_file]\n",
        "character = string.printable\n",
        "print(character)\n",
        "char_index = dict(zip(range(1,len(character)),character))\n",
        "max_character = 30\n",
        "X = np.zeros((len(list_of_words),max_character,len(char_index)+1))\n",
        "\n",
        "for i,word in enumerate(list_of_words):\n",
        "  for j,character in enumerate(word):\n",
        "    X[i][j][char_index.get(character)] = 1\n",
        "\n",
        "print(X[0])\n",
        "\"\"\"list_of_words = [word.lower() for word in dino_file]\n",
        "tokenizer = Tokenizer(char_level=True )\n",
        "tokenizer.fit_on_texts(list_of_words)\n",
        "sequences = tokenizer.texts_to_sequences(list_of_words)\"\"\"\n",
        "\n",
        "\n",
        "\n",
        "\n",
        "\n",
        "\n",
        "\n",
        "\n",
        "\n",
        "\n",
        "\"\"\"in order to generate new words we need to prepare RNN model that generates output sequence based on input sequence\"\"\"\n",
        "\"\"\"unique_alphabets = set()\n",
        "lines = []\n",
        "for word in dino_file:\n",
        "  lines.append(list(word.lower()))\n",
        "  for alphabet in word:\n",
        "    unique_alphabets.add(alphabet.lower())\n",
        "\n",
        "X = []\n",
        "y = []\n",
        "\n",
        "char_to_index = {alpha:index for index,alpha in enumerate(sorted(unique_alphabets))}\n",
        "index_to_char = {index:alpha for index,alpha in enumerate(sorted(unique_alphabets))}\n",
        "word_length = max([len(line) for line in lines])\n",
        "vocab_size = len(unique_alphabets)\n",
        "char_to_index['\\n'] = word_length\n",
        "char_to_index[' '] = 0\n",
        "index_to_char[0] = ' '\n",
        "index_to_char[word_length] = '\\n' \"\"\"\n",
        "\n"
      ],
      "execution_count": 28,
      "outputs": [
        {
          "output_type": "stream",
          "text": [
            "0123456789abcdefghijklmnopqrstuvwxyzABCDEFGHIJKLMNOPQRSTUVWXYZ!\"#$%&'()*+,-./:;<=>?@[\\]^_`{|}~ \t\n",
            "\r\u000b\f\n",
            "[[1. 1. 1. ... 1. 1. 1.]\n",
            " [1. 1. 1. ... 1. 1. 1.]\n",
            " [1. 1. 1. ... 1. 1. 1.]\n",
            " ...\n",
            " [0. 0. 0. ... 0. 0. 0.]\n",
            " [0. 0. 0. ... 0. 0. 0.]\n",
            " [0. 0. 0. ... 0. 0. 0.]]\n"
          ],
          "name": "stdout"
        },
        {
          "output_type": "execute_result",
          "data": {
            "text/plain": [
              "\"unique_alphabets = set()\\nlines = []\\nfor word in dino_file:\\n  lines.append(list(word.lower()))\\n  for alphabet in word:\\n    unique_alphabets.add(alphabet.lower())\\n\\nX = []\\ny = []\\n\\nchar_to_index = {alpha:index for index,alpha in enumerate(sorted(unique_alphabets))}\\nindex_to_char = {index:alpha for index,alpha in enumerate(sorted(unique_alphabets))}\\nword_length = max([len(line) for line in lines])\\nvocab_size = len(unique_alphabets)\\nchar_to_index['\\n'] = word_length\\nchar_to_index[' '] = 0\\nindex_to_char[0] = ' '\\nindex_to_char[word_length] = '\\n' \""
            ]
          },
          "metadata": {
            "tags": []
          },
          "execution_count": 28
        }
      ]
    },
    {
      "cell_type": "code",
      "metadata": {
        "id": "mGoTngIg8R5H",
        "colab_type": "code",
        "colab": {
          "base_uri": "https://localhost:8080/",
          "height": 54
        },
        "outputId": "e0b45779-929b-4674-e1c8-832105591529"
      },
      "source": [
        "X = np.zeros((len(lines),word_length,vocab_size+1))\n",
        "y = np.zeros((len(lines),word_length,vocab_size+1))\n",
        "\n",
        "i=0\n",
        "for word in lines:\n",
        "  j=0\n",
        "  k=0\n",
        "\n",
        "  for alphas in word[:-1]:\n",
        "    X[i][j][char_to_index[alphas]] = 1\n",
        "    j = j+1\n",
        "  for alphas in word[1:]:\n",
        "    y[i][k][char_to_index[alphas]] = 1\n",
        "    k = k+1\n",
        "  i = i+1\n",
        "\n",
        "print(X.shape)\n",
        "print(y.shape)\n",
        "\n"
      ],
      "execution_count": 19,
      "outputs": [
        {
          "output_type": "stream",
          "text": [
            "(1536, 27, 28)\n",
            "(1536, 27, 28)\n"
          ],
          "name": "stdout"
        }
      ]
    },
    {
      "cell_type": "code",
      "metadata": {
        "id": "kVJ-h3Zbu8eo",
        "colab_type": "code",
        "colab": {
          "base_uri": "https://localhost:8080/",
          "height": 239
        },
        "outputId": "ab28f424-507b-425b-c19d-6f4c591e49d5"
      },
      "source": [
        "model = Sequential()\n",
        "model.add(LSTM(128, dropout=0.2, recurrent_dropout=0.2, input_shape= (word_length,vocab_size+1) , return_sequences=True ,))\n",
        "model.add(Dense(vocab_size+1, activation='softmax'))\n",
        "model.compile(loss='categorical_crossentropy',\n",
        "              optimizer='adam',\n",
        "              metrics=['accuracy'])\n",
        "model.summary()\n",
        "\n"
      ],
      "execution_count": 22,
      "outputs": [
        {
          "output_type": "stream",
          "text": [
            "Model: \"sequential_2\"\n",
            "_________________________________________________________________\n",
            "Layer (type)                 Output Shape              Param #   \n",
            "=================================================================\n",
            "lstm_2 (LSTM)                (None, 27, 128)           80384     \n",
            "_________________________________________________________________\n",
            "dense_2 (Dense)              (None, 27, 28)            3612      \n",
            "=================================================================\n",
            "Total params: 83,996\n",
            "Trainable params: 83,996\n",
            "Non-trainable params: 0\n",
            "_________________________________________________________________\n"
          ],
          "name": "stdout"
        }
      ]
    },
    {
      "cell_type": "code",
      "metadata": {
        "id": "FaFzAQsjw-Hy",
        "colab_type": "code",
        "colab": {
          "base_uri": "https://localhost:8080/",
          "height": 980
        },
        "outputId": "b995f0ad-ccca-4cda-fdcc-a594f124e0e8"
      },
      "source": [
        "model.fit(X, y, epochs=15, validation_data=(X, y))"
      ],
      "execution_count": 23,
      "outputs": [
        {
          "output_type": "stream",
          "text": [
            "WARNING:tensorflow:From /usr/local/lib/python3.6/dist-packages/tensorflow_core/python/ops/math_grad.py:1424: where (from tensorflow.python.ops.array_ops) is deprecated and will be removed in a future version.\n",
            "Instructions for updating:\n",
            "Use tf.where in 2.0, which has the same broadcast rule as np.where\n",
            "WARNING:tensorflow:From /usr/local/lib/python3.6/dist-packages/keras/backend/tensorflow_backend.py:1033: The name tf.assign_add is deprecated. Please use tf.compat.v1.assign_add instead.\n",
            "\n",
            "WARNING:tensorflow:From /usr/local/lib/python3.6/dist-packages/keras/backend/tensorflow_backend.py:1020: The name tf.assign is deprecated. Please use tf.compat.v1.assign instead.\n",
            "\n",
            "WARNING:tensorflow:From /usr/local/lib/python3.6/dist-packages/keras/backend/tensorflow_backend.py:3005: The name tf.Session is deprecated. Please use tf.compat.v1.Session instead.\n",
            "\n",
            "Train on 1536 samples, validate on 1536 samples\n",
            "Epoch 1/15\n",
            "WARNING:tensorflow:From /usr/local/lib/python3.6/dist-packages/keras/backend/tensorflow_backend.py:190: The name tf.get_default_session is deprecated. Please use tf.compat.v1.get_default_session instead.\n",
            "\n",
            "WARNING:tensorflow:From /usr/local/lib/python3.6/dist-packages/keras/backend/tensorflow_backend.py:197: The name tf.ConfigProto is deprecated. Please use tf.compat.v1.ConfigProto instead.\n",
            "\n",
            "WARNING:tensorflow:From /usr/local/lib/python3.6/dist-packages/keras/backend/tensorflow_backend.py:207: The name tf.global_variables is deprecated. Please use tf.compat.v1.global_variables instead.\n",
            "\n",
            "WARNING:tensorflow:From /usr/local/lib/python3.6/dist-packages/keras/backend/tensorflow_backend.py:216: The name tf.is_variable_initialized is deprecated. Please use tf.compat.v1.is_variable_initialized instead.\n",
            "\n",
            "WARNING:tensorflow:From /usr/local/lib/python3.6/dist-packages/keras/backend/tensorflow_backend.py:223: The name tf.variables_initializer is deprecated. Please use tf.compat.v1.variables_initializer instead.\n",
            "\n",
            "1536/1536 [==============================] - 5s 3ms/step - loss: 1.3035 - acc: 0.0700 - val_loss: 1.1756 - val_acc: 0.0898\n",
            "Epoch 2/15\n",
            "1536/1536 [==============================] - 2s 2ms/step - loss: 1.1482 - acc: 0.1016 - val_loss: 1.1157 - val_acc: 0.1056\n",
            "Epoch 3/15\n",
            "1536/1536 [==============================] - 3s 2ms/step - loss: 1.0882 - acc: 0.1300 - val_loss: 1.0371 - val_acc: 0.1542\n",
            "Epoch 4/15\n",
            "1536/1536 [==============================] - 3s 2ms/step - loss: 1.0023 - acc: 0.1624 - val_loss: 0.9457 - val_acc: 0.1761\n",
            "Epoch 5/15\n",
            "1536/1536 [==============================] - 3s 2ms/step - loss: 0.9351 - acc: 0.1785 - val_loss: 0.8975 - val_acc: 0.1884\n",
            "Epoch 6/15\n",
            "1536/1536 [==============================] - 3s 2ms/step - loss: 0.9045 - acc: 0.1833 - val_loss: 0.8730 - val_acc: 0.1913\n",
            "Epoch 7/15\n",
            "1536/1536 [==============================] - 3s 2ms/step - loss: 0.8839 - acc: 0.1856 - val_loss: 0.8500 - val_acc: 0.1976\n",
            "Epoch 8/15\n",
            "1536/1536 [==============================] - 3s 2ms/step - loss: 0.8665 - acc: 0.1902 - val_loss: 0.8335 - val_acc: 0.2004\n",
            "Epoch 9/15\n",
            "1536/1536 [==============================] - 3s 2ms/step - loss: 0.8506 - acc: 0.1946 - val_loss: 0.8166 - val_acc: 0.2029\n",
            "Epoch 10/15\n",
            "1536/1536 [==============================] - 3s 2ms/step - loss: 0.8361 - acc: 0.1962 - val_loss: 0.8036 - val_acc: 0.2077\n",
            "Epoch 11/15\n",
            "1536/1536 [==============================] - 3s 2ms/step - loss: 0.8266 - acc: 0.1992 - val_loss: 0.7963 - val_acc: 0.2058\n",
            "Epoch 12/15\n",
            "1536/1536 [==============================] - 3s 2ms/step - loss: 0.8135 - acc: 0.2024 - val_loss: 0.7798 - val_acc: 0.2105\n",
            "Epoch 13/15\n",
            "1536/1536 [==============================] - 3s 2ms/step - loss: 0.8060 - acc: 0.2054 - val_loss: 0.7725 - val_acc: 0.2148\n",
            "Epoch 14/15\n",
            "1536/1536 [==============================] - 3s 2ms/step - loss: 0.7984 - acc: 0.2077 - val_loss: 0.7606 - val_acc: 0.2195\n",
            "Epoch 15/15\n",
            "1536/1536 [==============================] - 2s 2ms/step - loss: 0.7906 - acc: 0.2104 - val_loss: 0.7548 - val_acc: 0.2183\n"
          ],
          "name": "stdout"
        },
        {
          "output_type": "execute_result",
          "data": {
            "text/plain": [
              "<keras.callbacks.History at 0x7f5fd46d96a0>"
            ]
          },
          "metadata": {
            "tags": []
          },
          "execution_count": 23
        }
      ]
    },
    {
      "cell_type": "code",
      "metadata": {
        "id": "s18VS9QNjwTX",
        "colab_type": "code",
        "colab": {
          "base_uri": "https://localhost:8080/",
          "height": 129
        },
        "outputId": "e3fb4d54-53f5-49ca-f2d4-1d489b5b48c8"
      },
      "source": [
        "y_pred = model.predict_classes(X[:2])\n",
        "print(y_pred)\n",
        "y_pred_words = [[index_to_char[i] for i in word] for word in y_pred ]\n",
        "print(y_pred_words)"
      ],
      "execution_count": 27,
      "outputs": [
        {
          "output_type": "stream",
          "text": [
            "[[14 14  8  1 18 15 19  1 21 18 21 19 27 21 19 27 19 27 27 27 27 27 27 27\n",
            "  27 27 27]\n",
            " [14 14  1 15 19 15 19 27 21 27 21 27 27 27 27 27 27 27 27 27 27 27 27 27\n",
            "  27 27 27]]\n",
            "[['n', 'n', 'h', 'a', 'r', 'o', 's', 'a', 'u', 'r', 'u', 's', '\\n', 'u', 's', '\\n', 's', '\\n', '\\n', '\\n', '\\n', '\\n', '\\n', '\\n', '\\n', '\\n', '\\n'], ['n', 'n', 'a', 'o', 's', 'o', 's', '\\n', 'u', '\\n', 'u', '\\n', '\\n', '\\n', '\\n', '\\n', '\\n', '\\n', '\\n', '\\n', '\\n', '\\n', '\\n', '\\n', '\\n', '\\n', '\\n']]\n"
          ],
          "name": "stdout"
        }
      ]
    }
  ]
}