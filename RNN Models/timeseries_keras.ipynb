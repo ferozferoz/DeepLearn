{
  "nbformat": 4,
  "nbformat_minor": 0,
  "metadata": {
    "colab": {
      "name": "timeseries_keras.ipynb",
      "provenance": [],
      "collapsed_sections": [],
      "include_colab_link": true
    },
    "kernelspec": {
      "name": "python3",
      "display_name": "Python 3"
    }
  },
  "cells": [
    {
      "cell_type": "markdown",
      "metadata": {
        "id": "view-in-github",
        "colab_type": "text"
      },
      "source": [
        "<a href=\"https://colab.research.google.com/github/ferozferoz/DeepLearn/blob/master/timeseries_keras.ipynb\" target=\"_parent\"><img src=\"https://colab.research.google.com/assets/colab-badge.svg\" alt=\"Open In Colab\"/></a>"
      ]
    },
    {
      "cell_type": "code",
      "metadata": {
        "id": "K58dVihoYoB1",
        "colab_type": "code",
        "colab": {}
      },
      "source": [
        "import numpy as np\n"
      ],
      "execution_count": 0,
      "outputs": []
    },
    {
      "cell_type": "code",
      "metadata": {
        "id": "WgTGts1b-76t",
        "colab_type": "code",
        "outputId": "ab6b01a3-e134-496f-f143-543d97f8d91f",
        "colab": {
          "base_uri": "https://localhost:8080/",
          "height": 122
        }
      },
      "source": [
        "from google.colab import drive\n",
        "drive.mount('/content/gdrive')\n"
      ],
      "execution_count": 3,
      "outputs": [
        {
          "output_type": "stream",
          "text": [
            "Go to this URL in a browser: https://accounts.google.com/o/oauth2/auth?client_id=947318989803-6bn6qk8qdgf4n4g3pfee6491hc0brc4i.apps.googleusercontent.com&redirect_uri=urn%3aietf%3awg%3aoauth%3a2.0%3aoob&response_type=code&scope=email%20https%3a%2f%2fwww.googleapis.com%2fauth%2fdocs.test%20https%3a%2f%2fwww.googleapis.com%2fauth%2fdrive%20https%3a%2f%2fwww.googleapis.com%2fauth%2fdrive.photos.readonly%20https%3a%2f%2fwww.googleapis.com%2fauth%2fpeopleapi.readonly\n",
            "\n",
            "Enter your authorization code:\n",
            "··········\n",
            "Mounted at /content/gdrive\n"
          ],
          "name": "stdout"
        }
      ]
    },
    {
      "cell_type": "code",
      "metadata": {
        "id": "TBiqayohABeo",
        "colab_type": "code",
        "outputId": "8462f6f8-b7c6-406a-e2a7-4d6fdd659163",
        "colab": {
          "base_uri": "https://localhost:8080/",
          "height": 238
        }
      },
      "source": [
        "f = open('/content/gdrive/My Drive/ColabNotebooks/jena_climate_2009_2016/jena_climate_2009_2016.csv','r',encoding='UTF-8')\n",
        "data = f.read()\n",
        "f.close()\n",
        "lines = data.split('\\n')\n",
        "header = lines[0].split(',')\n",
        "body = lines[1:]\n",
        "\"\"\"the data in list will be moved to the numpy array  \"\"\"\n",
        "\n",
        "data_list = np.zeros((len(body),len(header)-1))\n",
        "for i,body_data in enumerate(body):\n",
        "  values = [float(x) for x in body_data.split(',')[1:]]\n",
        "  data_list[i,:] = values\n",
        "\n",
        "print(data_list[:4])\n",
        "print(data_list.shape[-1])\n"
      ],
      "execution_count": 4,
      "outputs": [
        {
          "output_type": "stream",
          "text": [
            "[[ 9.96520e+02 -8.02000e+00  2.65400e+02 -8.90000e+00  9.33000e+01\n",
            "   3.33000e+00  3.11000e+00  2.20000e-01  1.94000e+00  3.12000e+00\n",
            "   1.30775e+03  1.03000e+00  1.75000e+00  1.52300e+02]\n",
            " [ 9.96570e+02 -8.41000e+00  2.65010e+02 -9.28000e+00  9.34000e+01\n",
            "   3.23000e+00  3.02000e+00  2.10000e-01  1.89000e+00  3.03000e+00\n",
            "   1.30980e+03  7.20000e-01  1.50000e+00  1.36100e+02]\n",
            " [ 9.96530e+02 -8.51000e+00  2.64910e+02 -9.31000e+00  9.39000e+01\n",
            "   3.21000e+00  3.01000e+00  2.00000e-01  1.88000e+00  3.02000e+00\n",
            "   1.31024e+03  1.90000e-01  6.30000e-01  1.71600e+02]\n",
            " [ 9.96510e+02 -8.31000e+00  2.65120e+02 -9.07000e+00  9.42000e+01\n",
            "   3.26000e+00  3.07000e+00  1.90000e-01  1.92000e+00  3.08000e+00\n",
            "   1.30919e+03  3.40000e-01  5.00000e-01  1.98000e+02]]\n",
            "14\n"
          ],
          "name": "stdout"
        }
      ]
    },
    {
      "cell_type": "code",
      "metadata": {
        "id": "cGte7PSAb1v3",
        "colab_type": "code",
        "outputId": "b53645cd-552a-491a-e12a-4385b17082d6",
        "colab": {
          "base_uri": "https://localhost:8080/",
          "height": 285
        }
      },
      "source": [
        "import matplotlib.pyplot as plt\n",
        "plt.plot(range(len(data_list)),data_list[:,1]) ## clearly there is periodicity in data on long term basis\n"
      ],
      "execution_count": 5,
      "outputs": [
        {
          "output_type": "execute_result",
          "data": {
            "text/plain": [
              "[<matplotlib.lines.Line2D at 0x7f38b2234940>]"
            ]
          },
          "metadata": {
            "tags": []
          },
          "execution_count": 5
        },
        {
          "output_type": "display_data",
          "data": {
            "image/png": "[encoded data removed]",
            "text/plain": [
              "<Figure size 432x288 with 1 Axes>"
            ]
          },
          "metadata": {
            "tags": []
          }
        }
      ]
    },
    {
      "cell_type": "code",
      "metadata": {
        "id": "lo8rDVthcoXm",
        "colab_type": "code",
        "outputId": "04e88cc2-ba2d-45eb-f5f1-9891bf0b4c9f",
        "colab": {
          "base_uri": "https://localhost:8080/",
          "height": 282
        }
      },
      "source": [
        "plt.plot(data_list[:1440,1]) # in 10 days worth of data periodicity is not observed"
      ],
      "execution_count": 6,
      "outputs": [
        {
          "output_type": "execute_result",
          "data": {
            "text/plain": [
              "[<matplotlib.lines.Line2D at 0x7f38b1d8d1d0>]"
            ]
          },
          "metadata": {
            "tags": []
          },
          "execution_count": 6
        },
        {
          "output_type": "display_data",
          "data": {
            "image/png": "[encoded data removed]",
            "text/plain": [
              "<Figure size 432x288 with 1 Axes>"
            ]
          },
          "metadata": {
            "tags": []
          }
        }
      ]
    },
    {
      "cell_type": "code",
      "metadata": {
        "id": "W27FnqFAv5Xm",
        "colab_type": "code",
        "outputId": "691be322-8cd1-4f9c-8fd9-acb4e3c55c41",
        "colab": {
          "base_uri": "https://localhost:8080/",
          "height": 68
        }
      },
      "source": [
        "mean = data_list[:200000].mean(axis=0)\n",
        "data_list -= mean\n",
        "std = data_list[:200000].std(axis=0)\n",
        "data_list /= std\n",
        "\n",
        "data_list[:1,]"
      ],
      "execution_count": 8,
      "outputs": [
        {
          "output_type": "execute_result",
          "data": {
            "text/plain": [
              "array([[ 0.90014748, -1.93135845, -1.98211036, -1.86280029,  1.07285236,\n",
              "        -1.30742164, -1.47375773, -0.79868641, -1.4762674 , -1.47815522,\n",
              "         2.12375056, -0.72950452, -0.78067973, -0.27613603]])"
            ]
          },
          "metadata": {
            "tags": []
          },
          "execution_count": 8
        }
      ]
    },
    {
      "cell_type": "code",
      "metadata": {
        "id": "4o-_GMCndQMX",
        "colab_type": "code",
        "colab": {}
      },
      "source": [
        "def generator(data, lookback, delay, min_index, max_index,\n",
        "              shuffle=False, batch_size=128, step=6):\n",
        "    if max_index is None:\n",
        "        max_index = len(data) - delay - 1\n",
        "    i = min_index + lookback\n",
        "    while 1:\n",
        "        if shuffle:\n",
        "            rows = np.random.randint(\n",
        "                min_index + lookback, max_index, size=batch_size)\n",
        "        else:\n",
        "            if i + batch_size >= max_index:\n",
        "                i = min_index + lookback\n",
        "            rows = np.arange(i, min(i + batch_size, max_index))\n",
        "            i += len(rows)\n",
        "\n",
        "        samples = np.zeros((len(rows),\n",
        "                           lookback // step,\n",
        "                           data.shape[-1]))\n",
        "        targets = np.zeros((len(rows),))\n",
        "        for j, row in enumerate(rows):\n",
        "            indices = range(rows[j] - lookback, rows[j], step)\n",
        "            samples[j] = data[indices]\n",
        "            targets[j] = data[rows[j] + delay][1]\n",
        "        \n",
        "        yield samples, targets"
      ],
      "execution_count": 0,
      "outputs": []
    },
    {
      "cell_type": "code",
      "metadata": {
        "id": "YBhi2MHPdVvr",
        "colab_type": "code",
        "colab": {}
      },
      "source": [
        "lookback = 1440\n",
        "step = 6\n",
        "delay = 144\n",
        "batch_size = 128"
      ],
      "execution_count": 0,
      "outputs": []
    },
    {
      "cell_type": "code",
      "metadata": {
        "id": "XAZus2KNn7gl",
        "colab_type": "code",
        "colab": {
          "base_uri": "https://localhost:8080/",
          "height": 51
        },
        "outputId": "4704f1c7-2fa0-4059-a862-f865c6c71dae"
      },
      "source": [
        "train_gen = generator(data_list,lookback=lookback,delay=delay,min_index=0,max_index=20000,shuffle=True,step=step,batch_size=batch_size)\n",
        "validation_gen = generator(data_list,lookback=lookback,delay=delay,min_index=20001,max_index=30000,shuffle=True,step=step,batch_size=batch_size)\n",
        "test_gen = generator(data_list,lookback=lookback,delay=delay,min_index=30001,max_index=None,shuffle=True,step=step,batch_size=batch_size)\n",
        "\n",
        "val_steps = (30000 - 20001 - lookback)\n",
        "test_steps = (len(data_list) - 30001 - lookback)\n",
        "print(data_list.shape)\n",
        "x = next(train_gen)\n",
        "print(x[0].shape)\n"
      ],
      "execution_count": 27,
      "outputs": [
        {
          "output_type": "stream",
          "text": [
            "(420551, 14)\n",
            "(128, 240, 14)\n"
          ],
          "name": "stdout"
        }
      ]
    },
    {
      "cell_type": "code",
      "metadata": {
        "id": "ONgJ_2hXxetz",
        "colab_type": "code",
        "outputId": "286be711-00bf-40df-86ed-f3b89c5928be",
        "colab": {
          "base_uri": "https://localhost:8080/",
          "height": 255
        }
      },
      "source": [
        "from keras.models import Sequential\n",
        "from keras import layers\n",
        "from keras.optimizers import RMSprop\n",
        "model = Sequential()\n",
        "model.add(layers.Flatten(input_shape=(lookback // step, data_list.shape[-1])))\n",
        "model.add(layers.Dense(32, activation='relu'))\n",
        "model.add(layers.Dense(1))\n",
        "model.summary()\n"
      ],
      "execution_count": 20,
      "outputs": [
        {
          "output_type": "stream",
          "text": [
            "Model: \"sequential_2\"\n",
            "_________________________________________________________________\n",
            "Layer (type)                 Output Shape              Param #   \n",
            "=================================================================\n",
            "flatten_2 (Flatten)          (None, 3360)              0         \n",
            "_________________________________________________________________\n",
            "dense_3 (Dense)              (None, 32)                107552    \n",
            "_________________________________________________________________\n",
            "dense_4 (Dense)              (None, 1)                 33        \n",
            "=================================================================\n",
            "Total params: 107,585\n",
            "Trainable params: 107,585\n",
            "Non-trainable params: 0\n",
            "_________________________________________________________________\n"
          ],
          "name": "stdout"
        }
      ]
    },
    {
      "cell_type": "code",
      "metadata": {
        "id": "VZxWbv6dZKrB",
        "colab_type": "code",
        "outputId": "3b034fe7-66af-4d79-f9fe-795485aee716",
        "colab": {
          "base_uri": "https://localhost:8080/",
          "height": 187
        }
      },
      "source": [
        "model.compile(optimizer=RMSprop(), loss='mae')\n",
        "history = model.fit(train_gen,\n",
        "                              steps_per_epoch=5,\n",
        "                              epochs=5,\n",
        "                              validation_data=validation_gen,validation_steps=val_steps\n",
        "                              )"
      ],
      "execution_count": 22,
      "outputs": [
        {
          "output_type": "stream",
          "text": [
            "Epoch 1/5\n",
            "5/5 [==============================] - 75s 15s/step - loss: 1.9150 - val_loss: 1.4950\n",
            "Epoch 2/5\n",
            "5/5 [==============================] - 75s 15s/step - loss: 0.8059 - val_loss: 2.1063\n",
            "Epoch 3/5\n",
            "5/5 [==============================] - 75s 15s/step - loss: 0.6859 - val_loss: 1.5918\n",
            "Epoch 4/5\n",
            "5/5 [==============================] - 76s 15s/step - loss: 0.4886 - val_loss: 4.3332\n",
            "Epoch 5/5\n",
            "5/5 [==============================] - 76s 15s/step - loss: 0.4285 - val_loss: 1.8982\n"
          ],
          "name": "stdout"
        }
      ]
    },
    {
      "cell_type": "code",
      "metadata": {
        "id": "CxaC3B2tcrQb",
        "colab_type": "code",
        "outputId": "7cebc058-3ae5-403c-8f93-463fc9d6db71",
        "colab": {
          "base_uri": "https://localhost:8080/",
          "height": 281
        }
      },
      "source": [
        "import matplotlib.pyplot as plt\n",
        "loss = history.history['loss']\n",
        "val_loss = history.history['val_loss']\n",
        "epochs = range(1, len(loss) + 1)\n",
        "plt.figure()\n",
        "plt.plot(epochs, loss, 'bo', label='Training loss')\n",
        "plt.plot(epochs, val_loss, 'b', label='Validation loss')\n",
        "plt.title('Training and validation loss')\n",
        "plt.legend()\n",
        "plt.show()"
      ],
      "execution_count": 23,
      "outputs": [
        {
          "output_type": "display_data",
          "data": {
            "image/png": "[encoded data removed]",
            "text/plain": [
              "<Figure size 432x288 with 1 Axes>"
            ]
          },
          "metadata": {
            "tags": []
          }
        }
      ]
    },
    {
      "cell_type": "code",
      "metadata": {
        "id": "EZlzCI3yct7a",
        "colab_type": "code",
        "colab": {
          "base_uri": "https://localhost:8080/",
          "height": 901
        },
        "outputId": "946ddf32-302d-4423-f553-cd7401817ca6"
      },
      "source": [
        "model1 = Sequential()\n",
        "model1.add(layers.GRU(32,input_shape=(240,14)))\n",
        "model1.add(layers.Dense(1))\n",
        "model1.summary()\n",
        "model1.compile(optimizer=RMSprop(),loss='mae')\n",
        "history1 = model.fit_generator(train_gen,\n",
        "steps_per_epoch=5,\n",
        "epochs=20,\n",
        "validation_data=validation_gen,\n",
        "validation_steps=val_steps)"
      ],
      "execution_count": 32,
      "outputs": [
        {
          "output_type": "stream",
          "text": [
            "Model: \"sequential_6\"\n",
            "_________________________________________________________________\n",
            "Layer (type)                 Output Shape              Param #   \n",
            "=================================================================\n",
            "gru_4 (GRU)                  (None, 32)                4512      \n",
            "_________________________________________________________________\n",
            "dense_8 (Dense)              (None, 1)                 33        \n",
            "=================================================================\n",
            "Total params: 4,545\n",
            "Trainable params: 4,545\n",
            "Non-trainable params: 0\n",
            "_________________________________________________________________\n",
            "Epoch 1/20\n",
            "5/5 [==============================] - 77s 15s/step - loss: 0.4245 - val_loss: 4.1025\n",
            "Epoch 2/20\n",
            "5/5 [==============================] - 78s 16s/step - loss: 0.4738 - val_loss: 2.1840\n",
            "Epoch 3/20\n",
            "5/5 [==============================] - 76s 15s/step - loss: 0.3638 - val_loss: 3.2875\n",
            "Epoch 4/20\n",
            "5/5 [==============================] - 75s 15s/step - loss: 0.5139 - val_loss: 4.7503\n",
            "Epoch 5/20\n",
            "5/5 [==============================] - 76s 15s/step - loss: 0.3287 - val_loss: 1.2396\n",
            "Epoch 6/20\n",
            "5/5 [==============================] - 77s 15s/step - loss: 0.4524 - val_loss: 6.1649\n",
            "Epoch 7/20\n",
            "5/5 [==============================] - 74s 15s/step - loss: 0.3812 - val_loss: 3.1356\n",
            "Epoch 8/20\n",
            "5/5 [==============================] - 75s 15s/step - loss: 0.3342 - val_loss: 4.3351\n",
            "Epoch 9/20\n",
            "5/5 [==============================] - 77s 15s/step - loss: 0.3927 - val_loss: 1.9000\n",
            "Epoch 10/20\n",
            "5/5 [==============================] - 76s 15s/step - loss: 0.3254 - val_loss: 3.8401\n",
            "Epoch 11/20\n",
            "5/5 [==============================] - 77s 15s/step - loss: 0.3216 - val_loss: 4.0275\n",
            "Epoch 12/20\n",
            "5/5 [==============================] - 79s 16s/step - loss: 0.3045 - val_loss: 2.9252\n",
            "Epoch 13/20\n",
            "5/5 [==============================] - 76s 15s/step - loss: 0.3051 - val_loss: 4.3366\n",
            "Epoch 14/20\n",
            "5/5 [==============================] - 76s 15s/step - loss: 0.2688 - val_loss: 4.0021\n",
            "Epoch 15/20\n",
            "5/5 [==============================] - 78s 16s/step - loss: 0.3051 - val_loss: 1.7398\n",
            "Epoch 16/20\n",
            "5/5 [==============================] - 79s 16s/step - loss: 0.4010 - val_loss: 1.3394\n",
            "Epoch 17/20\n",
            "5/5 [==============================] - 77s 15s/step - loss: 0.3939 - val_loss: 2.1074\n",
            "Epoch 18/20\n",
            "5/5 [==============================] - 77s 15s/step - loss: 0.3066 - val_loss: 6.3128\n",
            "Epoch 19/20\n",
            "5/5 [==============================] - 74s 15s/step - loss: 0.2558 - val_loss: 2.8820\n",
            "Epoch 20/20\n",
            "5/5 [==============================] - 79s 16s/step - loss: 0.2820 - val_loss: 4.6216\n"
          ],
          "name": "stdout"
        }
      ]
    },
    {
      "cell_type": "code",
      "metadata": {
        "id": "WFjRpW_6V_B1",
        "colab_type": "code",
        "colab": {
          "base_uri": "https://localhost:8080/",
          "height": 281
        },
        "outputId": "75d19e68-f5d1-4726-d1c9-506a63bf7519"
      },
      "source": [
        "loss = history1.history['loss']\n",
        "val_loss = history1.history['val_loss']\n",
        "epochs = range(1, len(loss) + 1)\n",
        "plt.figure()\n",
        "plt.plot(epochs, loss, 'bo', label='Training loss')\n",
        "plt.plot(epochs, val_loss, 'b', label='Validation loss')\n",
        "plt.title('Training and validation loss')\n",
        "plt.legend()\n",
        "plt.show()"
      ],
      "execution_count": 33,
      "outputs": [
        {
          "output_type": "display_data",
          "data": {
            "image/png": "[encoded data removed]",
            "text/plain": [
              "<Figure size 432x288 with 1 Axes>"
            ]
          },
          "metadata": {
            "tags": []
          }
        }
      ]
    },
    {
      "cell_type": "code",
      "metadata": {
        "id": "IhcT6oFFYQkN",
        "colab_type": "code",
        "colab": {
          "base_uri": "https://localhost:8080/",
          "height": 1000
        },
        "outputId": "9d7403d4-9228-40c2-abb4-0dd2be42a8a7"
      },
      "source": [
        "model2 = Sequential()\n",
        "model2.add(layers.GRU(32,dropout=0.2,recurrent_dropout=0.2,input_shape=(240,14)))\n",
        "model2.add(layers.Dense(1))\n",
        "model2.summary()\n",
        "model2.compile(optimizer=RMSprop(),loss='mae')\n",
        "history2 = model.fit_generator(train_gen,\n",
        "steps_per_epoch=5,\n",
        "epochs=20,\n",
        "validation_data=validation_gen,\n",
        "validation_steps=val_steps)"
      ],
      "execution_count": 34,
      "outputs": [
        {
          "output_type": "stream",
          "text": [
            "WARNING:tensorflow:From /usr/local/lib/python3.6/dist-packages/keras/backend/tensorflow_backend.py:148: The name tf.placeholder_with_default is deprecated. Please use tf.compat.v1.placeholder_with_default instead.\n",
            "\n",
            "WARNING:tensorflow:From /usr/local/lib/python3.6/dist-packages/keras/backend/tensorflow_backend.py:3733: calling dropout (from tensorflow.python.ops.nn_ops) with keep_prob is deprecated and will be removed in a future version.\n",
            "Instructions for updating:\n",
            "Please use `rate` instead of `keep_prob`. Rate should be set to `rate = 1 - keep_prob`.\n",
            "Model: \"sequential_7\"\n",
            "_________________________________________________________________\n",
            "Layer (type)                 Output Shape              Param #   \n",
            "=================================================================\n",
            "gru_5 (GRU)                  (None, 32)                4512      \n",
            "_________________________________________________________________\n",
            "dense_9 (Dense)              (None, 1)                 33        \n",
            "=================================================================\n",
            "Total params: 4,545\n",
            "Trainable params: 4,545\n",
            "Non-trainable params: 0\n",
            "_________________________________________________________________\n",
            "Epoch 1/20\n",
            "5/5 [==============================] - 80s 16s/step - loss: 0.2615 - val_loss: 2.8781\n",
            "Epoch 2/20\n",
            "5/5 [==============================] - 79s 16s/step - loss: 0.2776 - val_loss: 2.4742\n",
            "Epoch 3/20\n",
            "5/5 [==============================] - 79s 16s/step - loss: 0.2477 - val_loss: 1.3846\n",
            "Epoch 4/20\n",
            "5/5 [==============================] - 76s 15s/step - loss: 0.3019 - val_loss: 5.6078\n",
            "Epoch 5/20\n",
            "5/5 [==============================] - 77s 15s/step - loss: 0.2415 - val_loss: 5.2486\n",
            "Epoch 6/20\n",
            "5/5 [==============================] - 78s 16s/step - loss: 0.2507 - val_loss: 2.8390\n",
            "Epoch 7/20\n",
            "5/5 [==============================] - 77s 15s/step - loss: 0.2561 - val_loss: 3.7218\n",
            "Epoch 8/20\n",
            "5/5 [==============================] - 76s 15s/step - loss: 0.2917 - val_loss: 3.4568\n",
            "Epoch 9/20\n",
            "5/5 [==============================] - 76s 15s/step - loss: 0.3081 - val_loss: 1.5484\n",
            "Epoch 10/20\n",
            "5/5 [==============================] - 76s 15s/step - loss: 0.2512 - val_loss: 2.9143\n",
            "Epoch 11/20\n",
            "5/5 [==============================] - 77s 15s/step - loss: 0.1995 - val_loss: 2.7102\n",
            "Epoch 12/20\n",
            "5/5 [==============================] - 77s 15s/step - loss: 0.2797 - val_loss: 2.1032\n",
            "Epoch 13/20\n",
            "5/5 [==============================] - 77s 15s/step - loss: 0.2170 - val_loss: 2.4957\n",
            "Epoch 14/20\n",
            "5/5 [==============================] - 76s 15s/step - loss: 0.2198 - val_loss: 3.7564\n",
            "Epoch 15/20\n",
            "5/5 [==============================] - 76s 15s/step - loss: 0.2164 - val_loss: 1.3212\n",
            "Epoch 16/20\n",
            "5/5 [==============================] - 77s 15s/step - loss: 0.2370 - val_loss: 2.6983\n",
            "Epoch 17/20\n",
            "5/5 [==============================] - 76s 15s/step - loss: 0.2055 - val_loss: 2.9201\n",
            "Epoch 18/20\n",
            "5/5 [==============================] - 74s 15s/step - loss: 0.4236 - val_loss: 2.4844\n",
            "Epoch 19/20\n",
            "5/5 [==============================] - 75s 15s/step - loss: 0.1938 - val_loss: 4.4595\n",
            "Epoch 20/20\n",
            "5/5 [==============================] - 76s 15s/step - loss: 0.1977 - val_loss: 3.9945\n"
          ],
          "name": "stdout"
        }
      ]
    },
    {
      "cell_type": "code",
      "metadata": {
        "id": "oxiSt-oZj167",
        "colab_type": "code",
        "colab": {
          "base_uri": "https://localhost:8080/",
          "height": 281
        },
        "outputId": "4b25291d-d422-44e0-9f3a-11e151ef7e87"
      },
      "source": [
        "loss = history2.history['loss']\n",
        "val_loss = history2.history['val_loss']\n",
        "epochs = range(1, len(loss) + 1)\n",
        "plt.figure()\n",
        "plt.plot(epochs, loss, 'bo', label='Training loss')\n",
        "plt.plot(epochs, val_loss, 'b', label='Validation loss')\n",
        "plt.title('Training and validation loss')\n",
        "plt.legend()\n",
        "plt.show()"
      ],
      "execution_count": 35,
      "outputs": [
        {
          "output_type": "display_data",
          "data": {
            "image/png": "[encoded data removed]",
            "text/plain": [
              "<Figure size 432x288 with 1 Axes>"
            ]
          },
          "metadata": {
            "tags": []
          }
        }
      ]
    }
  ]
}