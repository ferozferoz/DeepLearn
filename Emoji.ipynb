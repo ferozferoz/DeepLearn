{
  "nbformat": 4,
  "nbformat_minor": 0,
  "metadata": {
    "colab": {
      "name": "Emoji.ipynb",
      "provenance": [],
      "collapsed_sections": [],
      "machine_shape": "hm",
      "include_colab_link": true
    },
    "kernelspec": {
      "name": "python3",
      "display_name": "Python 3"
    }
  },
  "cells": [
    {
      "cell_type": "markdown",
      "metadata": {
        "id": "view-in-github",
        "colab_type": "text"
      },
      "source": [
        "<a href=\"https://colab.research.google.com/github/ferozferoz/DeepLearn/blob/master/Emoji.ipynb\" target=\"_parent\"><img src=\"https://colab.research.google.com/assets/colab-badge.svg\" alt=\"Open In Colab\"/></a>"
      ]
    },
    {
      "cell_type": "code",
      "metadata": {
        "id": "e-HZkn--oGpa",
        "colab_type": "code",
        "colab": {
          "base_uri": "https://localhost:8080/",
          "height": 80
        },
        "outputId": "72cde679-0bda-4631-92ef-337a09d1075c"
      },
      "source": [
        "# this code learns sentiments and return emojis based on the sentence sentiment score\n",
        "# this code is re production of the Emoji example demonstrated by Andrew Ng course in coursera\n",
        "import numpy as np\n",
        "import requests\n",
        "from contextlib import closing\n",
        "import csv\n",
        "from keras.models import Model\n",
        "from keras.layers import Dense, Input, Dropout, LSTM, Activation\n",
        "from keras.layers.embeddings import Embedding\n",
        "from keras.preprocessing import sequence\n",
        "from keras.initializers import glorot_uniform"
      ],
      "execution_count": 2,
      "outputs": [
        {
          "output_type": "stream",
          "text": [
            "Using TensorFlow backend.\n"
          ],
          "name": "stderr"
        },
        {
          "output_type": "display_data",
          "data": {
            "text/html": [
              "<p style=\"color: red;\">\n",
              "The default version of TensorFlow in Colab will soon switch to TensorFlow 2.x.<br>\n",
              "We recommend you <a href=\"https://www.tensorflow.org/guide/migrate\" target=\"_blank\">upgrade</a> now \n",
              "or ensure your notebook will continue to use TensorFlow 1.x via the <code>%tensorflow_version 1.x</code> magic:\n",
              "<a href=\"https://colab.research.google.com/notebooks/tensorflow_version.ipynb\" target=\"_blank\">more info</a>.</p>\n"
            ],
            "text/plain": [
              "<IPython.core.display.HTML object>"
            ]
          },
          "metadata": {
            "tags": []
          }
        }
      ]
    },
    {
      "cell_type": "code",
      "metadata": {
        "id": "mliY5nx2c9O0",
        "colab_type": "code",
        "outputId": "809b73d7-b581-4475-a38f-a6b3da525a9a",
        "colab": {
          "base_uri": "https://localhost:8080/",
          "height": 122
        }
      },
      "source": [
        "from google.colab import drive\n",
        "drive.mount('/content/gdrive')"
      ],
      "execution_count": 3,
      "outputs": [
        {
          "output_type": "stream",
          "text": [
            "Go to this URL in a browser: https://accounts.google.com/o/oauth2/auth?client_id=947318989803-6bn6qk8qdgf4n4g3pfee6491hc0brc4i.apps.googleusercontent.com&redirect_uri=urn%3aietf%3awg%3aoauth%3a2.0%3aoob&response_type=code&scope=email%20https%3a%2f%2fwww.googleapis.com%2fauth%2fdocs.test%20https%3a%2f%2fwww.googleapis.com%2fauth%2fdrive%20https%3a%2f%2fwww.googleapis.com%2fauth%2fdrive.photos.readonly%20https%3a%2f%2fwww.googleapis.com%2fauth%2fpeopleapi.readonly\n",
            "\n",
            "Enter your authorization code:\n",
            "··········\n",
            "Mounted at /content/gdrive\n"
          ],
          "name": "stdout"
        }
      ]
    },
    {
      "cell_type": "code",
      "metadata": {
        "id": "jHaO64YUoaH0",
        "colab_type": "code",
        "colab": {}
      },
      "source": [
        "def read_csv(filename):\n",
        "    phrase = []\n",
        "    emoji = []\n",
        "\n",
        "    with closing(requests.get(filename, stream=True)) as r:\n",
        "      f = (line.decode('utf-8') for line in r.iter_lines())\n",
        "      reader = csv.reader(f, delimiter=',', quotechar='\"')\n",
        "      for row in reader:\n",
        "        \n",
        "        phrase.append(row[0])\n",
        "        emoji.append(row[1])\n",
        "    X = np.asarray(phrase)\n",
        "    Y = np.asarray(emoji, dtype=int)\n",
        "    return X, Y"
      ],
      "execution_count": 0,
      "outputs": []
    },
    {
      "cell_type": "code",
      "metadata": {
        "id": "awbLxzOZ42ou",
        "colab_type": "code",
        "colab": {}
      },
      "source": [
        "def read_glove_vecs(glove_file):\n",
        "    with open(glove_file, 'r',encoding='UTF-8') as f:\n",
        "        words = set()\n",
        "        word_to_vec_map = {}\n",
        "        for line in f:\n",
        "            line = line.strip().split()\n",
        "            curr_word = line[0]\n",
        "            words.add(curr_word)\n",
        "            word_to_vec_map[curr_word] = np.array(line[1:], dtype=np.float64)\n",
        "        \n",
        "        i = 1\n",
        "        words_to_index = {}\n",
        "        index_to_words = {}\n",
        "        for w in sorted(words):\n",
        "            words_to_index[w] = i\n",
        "            index_to_words[i] = w\n",
        "            i = i + 1\n",
        "    return words_to_index, index_to_words, word_to_vec_map\n"
      ],
      "execution_count": 0,
      "outputs": []
    },
    {
      "cell_type": "code",
      "metadata": {
        "id": "iNGqog7Kofpy",
        "colab_type": "code",
        "outputId": "e8264f75-7de2-41eb-c9c4-0d4dda18145d",
        "colab": {
          "base_uri": "https://localhost:8080/",
          "height": 85
        }
      },
      "source": [
        "X_train, Y_train = read_csv('https://raw.githubusercontent.com/AdalbertoCq/Deep-Learning-Specialization-Coursera/master/Sequence%20Models/week2/Emojyfier/data/emojify_data.csv')\n",
        "X_test, Y_test = read_csv('https://raw.githubusercontent.com/AdalbertoCq/Deep-Learning-Specialization-Coursera/master/Sequence%20Models/week2/Emojyfier/data/test_emoji.csv')\n",
        "\n",
        "print(X_train.shape)\n",
        "print(Y_train.shape)\n",
        "\n",
        "\n",
        "print(X_train[0])\n",
        "print(Y_train[0])\n",
        "\n"
      ],
      "execution_count": 34,
      "outputs": [
        {
          "output_type": "stream",
          "text": [
            "(183,)\n",
            "(183,)\n",
            "French macaroon is so tasty\n",
            "4\n"
          ],
          "name": "stdout"
        }
      ]
    },
    {
      "cell_type": "code",
      "metadata": {
        "id": "ki-FaxwEaGoV",
        "colab_type": "code",
        "colab": {}
      },
      "source": [
        "word_to_index, index_to_word, word_to_vec_map = read_glove_vecs('/content/gdrive/My Drive/ColabNotebooks/glove.6B.50d.txt')"
      ],
      "execution_count": 0,
      "outputs": []
    },
    {
      "cell_type": "code",
      "metadata": {
        "id": "4H5yVDwlbdrr",
        "colab_type": "code",
        "colab": {
          "base_uri": "https://localhost:8080/",
          "height": 221
        },
        "outputId": "a1b9500a-c663-4e80-8131-d7370a38f972"
      },
      "source": [
        "# printing all three variables for observation\n",
        "print(word_to_index['a'])\n",
        "print(\"+++++++++++++++++++++++\")\n",
        "print(index_to_word[1])\n",
        "print(\"+++++++++++++++++++++++\")\n",
        "print(word_to_vec_map['a'])"
      ],
      "execution_count": 14,
      "outputs": [
        {
          "output_type": "stream",
          "text": [
            "43010\n",
            "+++++++++++++++++++++++\n",
            "!\n",
            "+++++++++++++++++++++++\n",
            "[ 0.21705   0.46515  -0.46757   0.10082   1.0135    0.74845  -0.53104\n",
            " -0.26256   0.16812   0.13182  -0.24909  -0.44185  -0.21739   0.51004\n",
            "  0.13448  -0.43141  -0.03123   0.20674  -0.78138  -0.20148  -0.097401\n",
            "  0.16088  -0.61836  -0.18504  -0.12461  -2.2526   -0.22321   0.5043\n",
            "  0.32257   0.15313   3.9636   -0.71365  -0.67012   0.28388   0.21738\n",
            "  0.14433   0.25926   0.23434   0.4274   -0.44451   0.13813   0.36973\n",
            " -0.64289   0.024142 -0.039315 -0.26037   0.12017  -0.043782  0.41013\n",
            "  0.1796  ]\n"
          ],
          "name": "stdout"
        }
      ]
    },
    {
      "cell_type": "code",
      "metadata": {
        "id": "vd3P6xusYVyD",
        "colab_type": "code",
        "colab": {
          "base_uri": "https://localhost:8080/",
          "height": 51
        },
        "outputId": "6ff9087a-907d-45ee-b26a-dc7fb3059c3e"
      },
      "source": [
        "# function will convert a corpus of sentence into corpus of indices padded by max_len argument\n",
        "def sentences_to_indices(X, word_to_index, max_len):\n",
        "    m = X.shape[0]\n",
        "    X_indices = np.zeros((m, max_len))\n",
        "    \n",
        "    for i in range(m):\n",
        "      sentence_words = [w.lower() for w in X[i].split()]\n",
        "      j = 0\n",
        "      for w in sentence_words:\n",
        "        X_indices[i, j] = word_to_index[w]\n",
        "        j += 1\n",
        "    return X_indices\n",
        "x_indices = sentences_to_indices(X_train,word_to_index,10)\n",
        "x_indices[0]"
      ],
      "execution_count": 36,
      "outputs": [
        {
          "output_type": "execute_result",
          "data": {
            "text/plain": [
              "array([153730., 229211., 192973., 336114., 353730.,      0.,      0.,\n",
              "            0.,      0.,      0.])"
            ]
          },
          "metadata": {
            "tags": []
          },
          "execution_count": 36
        }
      ]
    },
    {
      "cell_type": "code",
      "metadata": {
        "id": "biExWWQubX-i",
        "colab_type": "code",
        "colab": {}
      },
      "source": [
        "# this function will return a embedding layer that will be used in later functions\n",
        "def pre_embedded_layer(word_to_vec_map,word_to_index):\n",
        "  #Embedding row is always 1 greater than vocabulary size\n",
        "  embedding_rows = len(word_to_index)+1\n",
        "  embedding_columns = word_to_vec_map['a'].shape[0]\n",
        "  e_matrix = np.zeros((embedding_rows, embedding_columns))\n",
        "  for word,index in word_to_index.items():\n",
        "    e_matrix[index,:] = word_to_vec_map[word]\n",
        "  \n",
        "  embedding_layer = Embedding(embedding_rows,embedding_columns,trainable=False)\n",
        "  embedding_layer.build((None,))\n",
        "  embedding_layer.set_weights([e_matrix])\n",
        "  return embedding_layer\n"
      ],
      "execution_count": 0,
      "outputs": []
    },
    {
      "cell_type": "code",
      "metadata": {
        "id": "yx_ZCpMTbbQz",
        "colab_type": "code",
        "colab": {}
      },
      "source": [
        "\n",
        "def emoji_model(input_shape, word_to_vec_map, word_to_index):\n",
        "    \n",
        "    sentence_indices = Input(input_shape, dtype='int32')\n",
        "    embedding_layer = pre_embedded_layer(word_to_vec_map, word_to_index)\n",
        "    embeddings = embedding_layer(sentence_indices)   \n",
        "    \n",
        "    X = LSTM(128, return_sequences=True)(embeddings)\n",
        "    X = Dropout(0.5)(X)\n",
        "    X = LSTM(128, return_sequences=False)(X)\n",
        "    X = Dropout(0.5)(X)\n",
        "    X = Dense(5)(X)\n",
        "    X = Activation('softmax')(X)\n",
        "    model = Model(inputs=sentence_indices, outputs=X)\n",
        "    \n",
        "    return model"
      ],
      "execution_count": 0,
      "outputs": []
    },
    {
      "cell_type": "code",
      "metadata": {
        "id": "tHhNQ0CY40rM",
        "colab_type": "code",
        "outputId": "15d13201-b666-418e-c3ae-8d2ec68054eb",
        "colab": {
          "base_uri": "https://localhost:8080/",
          "height": 425
        }
      },
      "source": [
        "\n",
        "max_len = 10\n",
        "model = emoji_model((max_len,), word_to_vec_map, word_to_index)\n",
        "model.summary()"
      ],
      "execution_count": 39,
      "outputs": [
        {
          "output_type": "stream",
          "text": [
            "Model: \"model_3\"\n",
            "_________________________________________________________________\n",
            "Layer (type)                 Output Shape              Param #   \n",
            "=================================================================\n",
            "input_3 (InputLayer)         (None, 10)                0         \n",
            "_________________________________________________________________\n",
            "embedding_3 (Embedding)      (None, 10, 50)            20000050  \n",
            "_________________________________________________________________\n",
            "lstm_4 (LSTM)                (None, 10, 128)           91648     \n",
            "_________________________________________________________________\n",
            "dropout_4 (Dropout)          (None, 10, 128)           0         \n",
            "_________________________________________________________________\n",
            "lstm_5 (LSTM)                (None, 128)               131584    \n",
            "_________________________________________________________________\n",
            "dropout_5 (Dropout)          (None, 128)               0         \n",
            "_________________________________________________________________\n",
            "dense_3 (Dense)              (None, 5)                 645       \n",
            "_________________________________________________________________\n",
            "activation_3 (Activation)    (None, 5)                 0         \n",
            "=================================================================\n",
            "Total params: 20,223,927\n",
            "Trainable params: 223,877\n",
            "Non-trainable params: 20,000,050\n",
            "_________________________________________________________________\n"
          ],
          "name": "stdout"
        }
      ]
    },
    {
      "cell_type": "code",
      "metadata": {
        "id": "CwJ18wYpwlTG",
        "colab_type": "code",
        "colab": {}
      },
      "source": [
        "model.compile(loss='categorical_crossentropy', optimizer='adam', metrics=['accuracy'])"
      ],
      "execution_count": 0,
      "outputs": []
    },
    {
      "cell_type": "code",
      "metadata": {
        "id": "ugulNZ4PoWI7",
        "colab_type": "code",
        "colab": {}
      },
      "source": [
        "\n"
      ],
      "execution_count": 0,
      "outputs": []
    },
    {
      "cell_type": "code",
      "metadata": {
        "id": "O88cTPXpnfUH",
        "colab_type": "code",
        "colab": {}
      },
      "source": [
        "def convert_to_one_hot(Y, C):\n",
        "    Y = np.eye(C)[Y.reshape(-1)]\n",
        "    return Y"
      ],
      "execution_count": 0,
      "outputs": []
    },
    {
      "cell_type": "code",
      "metadata": {
        "id": "jqAShuqcyLJ0",
        "colab_type": "code",
        "colab": {
          "base_uri": "https://localhost:8080/",
          "height": 1000
        },
        "outputId": "61d379ba-443d-4808-cf37-eef6034da155"
      },
      "source": [
        "X_train_indices = sentences_to_indices(X_train, word_to_index, max_len)\n",
        "Y_train_oh = convert_to_one_hot(Y_train, C = 5)\n",
        "model.fit(X_train_indices, Y_train_oh, epochs = 50, batch_size = 32, shuffle=True)\n"
      ],
      "execution_count": 42,
      "outputs": [
        {
          "output_type": "stream",
          "text": [
            "Epoch 1/50\n",
            "183/183 [==============================] - 0s 816us/step - loss: 0.5544 - acc: 0.7923\n",
            "Epoch 2/50\n",
            "183/183 [==============================] - 0s 798us/step - loss: 0.4888 - acc: 0.8033\n",
            "Epoch 3/50\n",
            "183/183 [==============================] - 0s 848us/step - loss: 0.4285 - acc: 0.8415\n",
            "Epoch 4/50\n",
            "183/183 [==============================] - 0s 847us/step - loss: 0.4040 - acc: 0.8579\n",
            "Epoch 5/50\n",
            "183/183 [==============================] - 0s 814us/step - loss: 0.3590 - acc: 0.8689\n",
            "Epoch 6/50\n",
            "183/183 [==============================] - 0s 846us/step - loss: 0.3654 - acc: 0.8743\n",
            "Epoch 7/50\n",
            "183/183 [==============================] - 0s 826us/step - loss: 0.3677 - acc: 0.8579\n",
            "Epoch 8/50\n",
            "183/183 [==============================] - 0s 874us/step - loss: 0.2486 - acc: 0.9016\n",
            "Epoch 9/50\n",
            "183/183 [==============================] - 0s 767us/step - loss: 0.2398 - acc: 0.9016\n",
            "Epoch 10/50\n",
            "183/183 [==============================] - 0s 895us/step - loss: 0.2035 - acc: 0.9290\n",
            "Epoch 11/50\n",
            "183/183 [==============================] - 0s 778us/step - loss: 0.2701 - acc: 0.9235\n",
            "Epoch 12/50\n",
            "183/183 [==============================] - 0s 807us/step - loss: 0.2221 - acc: 0.9180\n",
            "Epoch 13/50\n",
            "183/183 [==============================] - 0s 816us/step - loss: 0.2209 - acc: 0.9290\n",
            "Epoch 14/50\n",
            "183/183 [==============================] - 0s 796us/step - loss: 0.1494 - acc: 0.9399\n",
            "Epoch 15/50\n",
            "183/183 [==============================] - 0s 782us/step - loss: 0.1501 - acc: 0.9399\n",
            "Epoch 16/50\n",
            "183/183 [==============================] - 0s 795us/step - loss: 0.1228 - acc: 0.9617\n",
            "Epoch 17/50\n",
            "183/183 [==============================] - 0s 784us/step - loss: 0.1479 - acc: 0.9617\n",
            "Epoch 18/50\n",
            "183/183 [==============================] - 0s 824us/step - loss: 0.1009 - acc: 0.9617\n",
            "Epoch 19/50\n",
            "183/183 [==============================] - 0s 804us/step - loss: 0.2088 - acc: 0.9290\n",
            "Epoch 20/50\n",
            "183/183 [==============================] - 0s 908us/step - loss: 0.2255 - acc: 0.9180\n",
            "Epoch 21/50\n",
            "183/183 [==============================] - 0s 800us/step - loss: 0.1571 - acc: 0.9344\n",
            "Epoch 22/50\n",
            "183/183 [==============================] - 0s 831us/step - loss: 0.1142 - acc: 0.9672\n",
            "Epoch 23/50\n",
            "183/183 [==============================] - 0s 734us/step - loss: 0.0861 - acc: 0.9781\n",
            "Epoch 24/50\n",
            "183/183 [==============================] - 0s 789us/step - loss: 0.0354 - acc: 1.0000\n",
            "Epoch 25/50\n",
            "183/183 [==============================] - 0s 808us/step - loss: 0.0305 - acc: 0.9945\n",
            "Epoch 26/50\n",
            "183/183 [==============================] - 0s 798us/step - loss: 0.0269 - acc: 0.9945\n",
            "Epoch 27/50\n",
            "183/183 [==============================] - 0s 784us/step - loss: 0.0229 - acc: 0.9945\n",
            "Epoch 28/50\n",
            "183/183 [==============================] - 0s 831us/step - loss: 0.0186 - acc: 0.9945\n",
            "Epoch 29/50\n",
            "183/183 [==============================] - 0s 806us/step - loss: 0.0312 - acc: 0.9891\n",
            "Epoch 30/50\n",
            "183/183 [==============================] - 0s 799us/step - loss: 0.0487 - acc: 0.9781\n",
            "Epoch 31/50\n",
            "183/183 [==============================] - 0s 766us/step - loss: 0.0316 - acc: 0.9891\n",
            "Epoch 32/50\n",
            "183/183 [==============================] - 0s 786us/step - loss: 0.0163 - acc: 1.0000\n",
            "Epoch 33/50\n",
            "183/183 [==============================] - 0s 797us/step - loss: 0.0341 - acc: 0.9945\n",
            "Epoch 34/50\n",
            "183/183 [==============================] - 0s 808us/step - loss: 0.0140 - acc: 1.0000\n",
            "Epoch 35/50\n",
            "183/183 [==============================] - 0s 755us/step - loss: 0.0493 - acc: 0.9836\n",
            "Epoch 36/50\n",
            "183/183 [==============================] - 0s 870us/step - loss: 0.0898 - acc: 0.9727\n",
            "Epoch 37/50\n",
            "183/183 [==============================] - 0s 778us/step - loss: 0.0669 - acc: 0.9727\n",
            "Epoch 38/50\n",
            "183/183 [==============================] - 0s 843us/step - loss: 0.0707 - acc: 0.9836\n",
            "Epoch 39/50\n",
            "183/183 [==============================] - 0s 770us/step - loss: 0.0964 - acc: 0.9727\n",
            "Epoch 40/50\n",
            "183/183 [==============================] - 0s 801us/step - loss: 0.0875 - acc: 0.9781\n",
            "Epoch 41/50\n",
            "183/183 [==============================] - 0s 733us/step - loss: 0.0807 - acc: 0.9781\n",
            "Epoch 42/50\n",
            "183/183 [==============================] - 0s 823us/step - loss: 0.0637 - acc: 0.9781\n",
            "Epoch 43/50\n",
            "183/183 [==============================] - 0s 851us/step - loss: 0.0239 - acc: 1.0000\n",
            "Epoch 44/50\n",
            "183/183 [==============================] - 0s 786us/step - loss: 0.0198 - acc: 1.0000\n",
            "Epoch 45/50\n",
            "183/183 [==============================] - 0s 776us/step - loss: 0.0081 - acc: 1.0000\n",
            "Epoch 46/50\n",
            "183/183 [==============================] - 0s 771us/step - loss: 0.0079 - acc: 1.0000\n",
            "Epoch 47/50\n",
            "183/183 [==============================] - 0s 823us/step - loss: 0.0070 - acc: 1.0000\n",
            "Epoch 48/50\n",
            "183/183 [==============================] - 0s 788us/step - loss: 0.0103 - acc: 0.9945\n",
            "Epoch 49/50\n",
            "183/183 [==============================] - 0s 781us/step - loss: 0.0044 - acc: 1.0000\n",
            "Epoch 50/50\n",
            "183/183 [==============================] - 0s 809us/step - loss: 0.0039 - acc: 1.0000\n"
          ],
          "name": "stdout"
        },
        {
          "output_type": "execute_result",
          "data": {
            "text/plain": [
              "<keras.callbacks.History at 0x7f76b7e2efd0>"
            ]
          },
          "metadata": {
            "tags": []
          },
          "execution_count": 42
        }
      ]
    },
    {
      "cell_type": "code",
      "metadata": {
        "id": "UN7zpRp7olif",
        "colab_type": "code",
        "colab": {
          "base_uri": "https://localhost:8080/",
          "height": 68
        },
        "outputId": "c3c11ff0-f184-4f90-ef24-470fe668fa76"
      },
      "source": [
        "loss, acc = model.evaluate(X_train_indices, Y_train_oh)\n",
        "print()\n",
        "print(\"Train accuracy = \", acc)"
      ],
      "execution_count": 43,
      "outputs": [
        {
          "output_type": "stream",
          "text": [
            "183/183 [==============================] - 0s 2ms/step\n",
            "\n",
            "Train accuracy =  1.0\n"
          ],
          "name": "stdout"
        }
      ]
    },
    {
      "cell_type": "code",
      "metadata": {
        "id": "ieWIw4PFyWzi",
        "colab_type": "code",
        "colab": {
          "base_uri": "https://localhost:8080/",
          "height": 68
        },
        "outputId": "1769db64-2231-4a2d-c891-f25c7bcbe99c"
      },
      "source": [
        "X_test_indices = sentences_to_indices(X_test, word_to_index, max_len)\n",
        "Y_test_oh = convert_to_one_hot(Y_test, C = 5)\n",
        "loss, acc = model.evaluate(X_test_indices, Y_test_oh)\n",
        "print()\n",
        "print(\"Test accuracy = \", acc)"
      ],
      "execution_count": 44,
      "outputs": [
        {
          "output_type": "stream",
          "text": [
            "56/56 [==============================] - 0s 280us/step\n",
            "\n",
            "Test accuracy =  0.9821428571428571\n"
          ],
          "name": "stdout"
        }
      ]
    }
  ]
}