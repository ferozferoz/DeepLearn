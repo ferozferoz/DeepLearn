{
  "nbformat": 4,
  "nbformat_minor": 0,
  "metadata": {
    "colab": {
      "name": "Sentiment_analysis_with_Smileys.ipynb",
      "provenance": [],
      "collapsed_sections": [],
      "machine_shape": "hm",
      "include_colab_link": true
    },
    "kernelspec": {
      "name": "python3",
      "display_name": "Python 3"
    }
  },
  "cells": [
    {
      "cell_type": "markdown",
      "metadata": {
        "id": "view-in-github",
        "colab_type": "text"
      },
      "source": [
        "<a href=\"https://colab.research.google.com/github/ferozferoz/DeepLearn/blob/master/Sentiment_analysis_with_Smileys.ipynb\" target=\"_parent\"><img src=\"https://colab.research.google.com/assets/colab-badge.svg\" alt=\"Open In Colab\"/></a>"
      ]
    },
    {
      "cell_type": "code",
      "metadata": {
        "id": "CCzJprC207sV",
        "colab_type": "code",
        "colab": {
          "base_uri": "https://localhost:8080/",
          "height": 51
        },
        "outputId": "8f584954-369a-4411-e45d-b341e94c17ae"
      },
      "source": [
        "!pip install -q emoji"
      ],
      "execution_count": 4,
      "outputs": [
        {
          "output_type": "stream",
          "text": [
            "\u001b[?25l\r\u001b[K     |███████▌                        | 10kB 19.6MB/s eta 0:00:01\r\u001b[K     |███████████████                 | 20kB 2.3MB/s eta 0:00:01\r\u001b[K     |██████████████████████▋         | 30kB 3.3MB/s eta 0:00:01\r\u001b[K     |██████████████████████████████▏ | 40kB 2.1MB/s eta 0:00:01\r\u001b[K     |████████████████████████████████| 51kB 1.8MB/s \n",
            "\u001b[?25h  Building wheel for emoji (setup.py) ... \u001b[?25l\u001b[?25hdone\n"
          ],
          "name": "stdout"
        }
      ]
    },
    {
      "cell_type": "code",
      "metadata": {
        "id": "e-HZkn--oGpa",
        "colab_type": "code",
        "colab": {}
      },
      "source": [
        "# this code learns sentiments and return emojis based on the sentence sentiment score\n",
        "# this example is based on Sequence model course by Andrew Ng course in coursera\n",
        "import numpy as np\n",
        "import requests\n",
        "from contextlib import closing\n",
        "import csv\n",
        "from keras.models import Model\n",
        "from keras.layers import Dense, Input, Dropout, LSTM, Activation\n",
        "from keras.layers.embeddings import Embedding\n",
        "from keras.preprocessing import sequence\n",
        "from keras.initializers import glorot_uniform\n",
        "import emoji\n"
      ],
      "execution_count": 0,
      "outputs": []
    },
    {
      "cell_type": "code",
      "metadata": {
        "id": "mliY5nx2c9O0",
        "colab_type": "code",
        "outputId": "2c636279-174c-477f-e186-d439fe6a47e8",
        "colab": {
          "base_uri": "https://localhost:8080/",
          "height": 122
        }
      },
      "source": [
        "from google.colab import drive\n",
        "drive.mount('/content/gdrive')"
      ],
      "execution_count": 6,
      "outputs": [
        {
          "output_type": "stream",
          "text": [
            "Go to this URL in a browser: https://accounts.google.com/o/oauth2/auth?client_id=947318989803-6bn6qk8qdgf4n4g3pfee6491hc0brc4i.apps.googleusercontent.com&redirect_uri=urn%3aietf%3awg%3aoauth%3a2.0%3aoob&response_type=code&scope=email%20https%3a%2f%2fwww.googleapis.com%2fauth%2fdocs.test%20https%3a%2f%2fwww.googleapis.com%2fauth%2fdrive%20https%3a%2f%2fwww.googleapis.com%2fauth%2fdrive.photos.readonly%20https%3a%2f%2fwww.googleapis.com%2fauth%2fpeopleapi.readonly\n",
            "\n",
            "Enter your authorization code:\n",
            "··········\n",
            "Mounted at /content/gdrive\n"
          ],
          "name": "stdout"
        }
      ]
    },
    {
      "cell_type": "code",
      "metadata": {
        "id": "jHaO64YUoaH0",
        "colab_type": "code",
        "colab": {}
      },
      "source": [
        "def read_csv(filename):\n",
        "    phrase = []\n",
        "    emoji = []\n",
        "\n",
        "    with closing(requests.get(filename, stream=True)) as r:\n",
        "      f = (line.decode('utf-8') for line in r.iter_lines())\n",
        "      reader = csv.reader(f, delimiter=',', quotechar='\"')\n",
        "      for row in reader:\n",
        "        \n",
        "        phrase.append(row[0])\n",
        "        emoji.append(row[1])\n",
        "    X = np.asarray(phrase)\n",
        "    Y = np.asarray(emoji, dtype=int)\n",
        "    return X, Y"
      ],
      "execution_count": 0,
      "outputs": []
    },
    {
      "cell_type": "code",
      "metadata": {
        "id": "awbLxzOZ42ou",
        "colab_type": "code",
        "colab": {}
      },
      "source": [
        "def read_glove_vecs(glove_file):\n",
        "    with open(glove_file, 'r',encoding='UTF-8') as f:\n",
        "        words = set()\n",
        "        word_to_vec_map = {}\n",
        "        for line in f:\n",
        "            line = line.strip().split()\n",
        "            curr_word = line[0]\n",
        "            words.add(curr_word)\n",
        "            word_to_vec_map[curr_word] = np.array(line[1:], dtype=np.float64)\n",
        "        \n",
        "        i = 1\n",
        "        words_to_index = {}\n",
        "        index_to_words = {}\n",
        "        for w in sorted(words):\n",
        "            words_to_index[w] = i\n",
        "            index_to_words[i] = w\n",
        "            i = i + 1\n",
        "    return words_to_index, index_to_words, word_to_vec_map\n"
      ],
      "execution_count": 0,
      "outputs": []
    },
    {
      "cell_type": "code",
      "metadata": {
        "id": "iNGqog7Kofpy",
        "colab_type": "code",
        "outputId": "60e7a859-884f-44a1-83b3-8a0888b19a8a",
        "colab": {
          "base_uri": "https://localhost:8080/",
          "height": 85
        }
      },
      "source": [
        "X_train, Y_train = read_csv('https://raw.githubusercontent.com/AdalbertoCq/Deep-Learning-Specialization-Coursera/master/Sequence%20Models/week2/Emojyfier/data/emojify_data.csv')\n",
        "X_test, Y_test = read_csv('https://raw.githubusercontent.com/AdalbertoCq/Deep-Learning-Specialization-Coursera/master/Sequence%20Models/week2/Emojyfier/data/test_emoji.csv')\n",
        "\n",
        "print(X_train.shape)\n",
        "print(Y_train.shape)\n",
        "\n",
        "\n",
        "print(X_train[0])\n",
        "print(Y_train[0])\n",
        "\n"
      ],
      "execution_count": 9,
      "outputs": [
        {
          "output_type": "stream",
          "text": [
            "(183,)\n",
            "(183,)\n",
            "French macaroon is so tasty\n",
            "4\n"
          ],
          "name": "stdout"
        }
      ]
    },
    {
      "cell_type": "code",
      "metadata": {
        "id": "ki-FaxwEaGoV",
        "colab_type": "code",
        "colab": {}
      },
      "source": [
        "word_to_index, index_to_word, word_to_vec_map = read_glove_vecs('/content/gdrive/My Drive/ColabNotebooks/glove.6B.50d.txt')"
      ],
      "execution_count": 0,
      "outputs": []
    },
    {
      "cell_type": "code",
      "metadata": {
        "id": "4H5yVDwlbdrr",
        "colab_type": "code",
        "colab": {
          "base_uri": "https://localhost:8080/",
          "height": 221
        },
        "outputId": "e3401463-23b5-44c9-a3d7-20623f6a042e"
      },
      "source": [
        "# printing all three variables for observation\n",
        "print(word_to_index['a'])\n",
        "print(\"+++++++++++++++++++++++\")\n",
        "print(index_to_word[1])\n",
        "print(\"+++++++++++++++++++++++\")\n",
        "print(word_to_vec_map['a'])"
      ],
      "execution_count": 11,
      "outputs": [
        {
          "output_type": "stream",
          "text": [
            "43010\n",
            "+++++++++++++++++++++++\n",
            "!\n",
            "+++++++++++++++++++++++\n",
            "[ 0.21705   0.46515  -0.46757   0.10082   1.0135    0.74845  -0.53104\n",
            " -0.26256   0.16812   0.13182  -0.24909  -0.44185  -0.21739   0.51004\n",
            "  0.13448  -0.43141  -0.03123   0.20674  -0.78138  -0.20148  -0.097401\n",
            "  0.16088  -0.61836  -0.18504  -0.12461  -2.2526   -0.22321   0.5043\n",
            "  0.32257   0.15313   3.9636   -0.71365  -0.67012   0.28388   0.21738\n",
            "  0.14433   0.25926   0.23434   0.4274   -0.44451   0.13813   0.36973\n",
            " -0.64289   0.024142 -0.039315 -0.26037   0.12017  -0.043782  0.41013\n",
            "  0.1796  ]\n"
          ],
          "name": "stdout"
        }
      ]
    },
    {
      "cell_type": "code",
      "metadata": {
        "id": "vd3P6xusYVyD",
        "colab_type": "code",
        "colab": {
          "base_uri": "https://localhost:8080/",
          "height": 51
        },
        "outputId": "0e5b9637-e022-4e9f-e29a-f8c72b170ab1"
      },
      "source": [
        "# function will convert a corpus of sentence into corpus of indices padded by max_len argument\n",
        "def sentences_to_indices(X, word_to_index, max_len):\n",
        "    m = X.shape[0]\n",
        "    X_indices = np.zeros((m, max_len))\n",
        "    \n",
        "    for i in range(m):\n",
        "      sentence_words = [w.lower() for w in X[i].split()]\n",
        "      j = 0\n",
        "      for w in sentence_words:\n",
        "        X_indices[i, j] = word_to_index[w]\n",
        "        j += 1\n",
        "    return X_indices\n",
        "x_indices = sentences_to_indices(X_train,word_to_index,10)\n",
        "x_indices[0]"
      ],
      "execution_count": 12,
      "outputs": [
        {
          "output_type": "execute_result",
          "data": {
            "text/plain": [
              "array([153730., 229211., 192973., 336114., 353730.,      0.,      0.,\n",
              "            0.,      0.,      0.])"
            ]
          },
          "metadata": {
            "tags": []
          },
          "execution_count": 12
        }
      ]
    },
    {
      "cell_type": "code",
      "metadata": {
        "id": "biExWWQubX-i",
        "colab_type": "code",
        "colab": {}
      },
      "source": [
        "# this function will return a embedding layer that will be used in later functions\n",
        "def pre_embedded_layer(word_to_vec_map,word_to_index):\n",
        "  #Embedding row is always 1 greater than vocabulary size\n",
        "  embedding_rows = len(word_to_index)+1\n",
        "  embedding_columns = word_to_vec_map['a'].shape[0]\n",
        "  e_matrix = np.zeros((embedding_rows, embedding_columns))\n",
        "  for word,index in word_to_index.items():\n",
        "    e_matrix[index,:] = word_to_vec_map[word]\n",
        "  \n",
        "  embedding_layer = Embedding(embedding_rows,embedding_columns,trainable=False)\n",
        "  embedding_layer.build((None,))\n",
        "  embedding_layer.set_weights([e_matrix])\n",
        "  return embedding_layer\n"
      ],
      "execution_count": 0,
      "outputs": []
    },
    {
      "cell_type": "code",
      "metadata": {
        "id": "yx_ZCpMTbbQz",
        "colab_type": "code",
        "colab": {}
      },
      "source": [
        "\n",
        "def emoji_model(input_shape, word_to_vec_map, word_to_index):\n",
        "    \n",
        "    sentence_indices = Input(input_shape, dtype='int32')\n",
        "    embedding_layer = pre_embedded_layer(word_to_vec_map, word_to_index)\n",
        "    embeddings = embedding_layer(sentence_indices)   \n",
        "    \n",
        "    X = LSTM(128, return_sequences=True)(embeddings)\n",
        "    X = Dropout(0.5)(X)\n",
        "    X = LSTM(128, return_sequences=False)(X)\n",
        "    X = Dropout(0.5)(X)\n",
        "    X = Dense(5)(X)\n",
        "    X = Activation('softmax')(X)\n",
        "    model = Model(inputs=sentence_indices, outputs=X)\n",
        "    \n",
        "    return model"
      ],
      "execution_count": 0,
      "outputs": []
    },
    {
      "cell_type": "code",
      "metadata": {
        "id": "tHhNQ0CY40rM",
        "colab_type": "code",
        "outputId": "93607057-ec28-40db-add7-5e7cf4aab70e",
        "colab": {
          "base_uri": "https://localhost:8080/",
          "height": 836
        }
      },
      "source": [
        "\n",
        "max_len = 10\n",
        "model = emoji_model((max_len,), word_to_vec_map, word_to_index)\n",
        "model.summary()"
      ],
      "execution_count": 15,
      "outputs": [
        {
          "output_type": "stream",
          "text": [
            "WARNING:tensorflow:From /usr/local/lib/python3.6/dist-packages/keras/backend/tensorflow_backend.py:66: The name tf.get_default_graph is deprecated. Please use tf.compat.v1.get_default_graph instead.\n",
            "\n",
            "WARNING:tensorflow:From /usr/local/lib/python3.6/dist-packages/keras/backend/tensorflow_backend.py:541: The name tf.placeholder is deprecated. Please use tf.compat.v1.placeholder instead.\n",
            "\n",
            "WARNING:tensorflow:From /usr/local/lib/python3.6/dist-packages/keras/backend/tensorflow_backend.py:4432: The name tf.random_uniform is deprecated. Please use tf.random.uniform instead.\n",
            "\n",
            "WARNING:tensorflow:From /usr/local/lib/python3.6/dist-packages/keras/backend/tensorflow_backend.py:190: The name tf.get_default_session is deprecated. Please use tf.compat.v1.get_default_session instead.\n",
            "\n",
            "WARNING:tensorflow:From /usr/local/lib/python3.6/dist-packages/keras/backend/tensorflow_backend.py:197: The name tf.ConfigProto is deprecated. Please use tf.compat.v1.ConfigProto instead.\n",
            "\n",
            "WARNING:tensorflow:From /usr/local/lib/python3.6/dist-packages/keras/backend/tensorflow_backend.py:203: The name tf.Session is deprecated. Please use tf.compat.v1.Session instead.\n",
            "\n",
            "WARNING:tensorflow:From /usr/local/lib/python3.6/dist-packages/keras/backend/tensorflow_backend.py:207: The name tf.global_variables is deprecated. Please use tf.compat.v1.global_variables instead.\n",
            "\n",
            "WARNING:tensorflow:From /usr/local/lib/python3.6/dist-packages/keras/backend/tensorflow_backend.py:216: The name tf.is_variable_initialized is deprecated. Please use tf.compat.v1.is_variable_initialized instead.\n",
            "\n",
            "WARNING:tensorflow:From /usr/local/lib/python3.6/dist-packages/keras/backend/tensorflow_backend.py:223: The name tf.variables_initializer is deprecated. Please use tf.compat.v1.variables_initializer instead.\n",
            "\n",
            "WARNING:tensorflow:From /usr/local/lib/python3.6/dist-packages/keras/backend/tensorflow_backend.py:148: The name tf.placeholder_with_default is deprecated. Please use tf.compat.v1.placeholder_with_default instead.\n",
            "\n",
            "WARNING:tensorflow:From /usr/local/lib/python3.6/dist-packages/keras/backend/tensorflow_backend.py:3733: calling dropout (from tensorflow.python.ops.nn_ops) with keep_prob is deprecated and will be removed in a future version.\n",
            "Instructions for updating:\n",
            "Please use `rate` instead of `keep_prob`. Rate should be set to `rate = 1 - keep_prob`.\n",
            "Model: \"model_1\"\n",
            "_________________________________________________________________\n",
            "Layer (type)                 Output Shape              Param #   \n",
            "=================================================================\n",
            "input_1 (InputLayer)         (None, 10)                0         \n",
            "_________________________________________________________________\n",
            "embedding_1 (Embedding)      (None, 10, 50)            20000050  \n",
            "_________________________________________________________________\n",
            "lstm_1 (LSTM)                (None, 10, 128)           91648     \n",
            "_________________________________________________________________\n",
            "dropout_1 (Dropout)          (None, 10, 128)           0         \n",
            "_________________________________________________________________\n",
            "lstm_2 (LSTM)                (None, 128)               131584    \n",
            "_________________________________________________________________\n",
            "dropout_2 (Dropout)          (None, 128)               0         \n",
            "_________________________________________________________________\n",
            "dense_1 (Dense)              (None, 5)                 645       \n",
            "_________________________________________________________________\n",
            "activation_1 (Activation)    (None, 5)                 0         \n",
            "=================================================================\n",
            "Total params: 20,223,927\n",
            "Trainable params: 223,877\n",
            "Non-trainable params: 20,000,050\n",
            "_________________________________________________________________\n"
          ],
          "name": "stdout"
        }
      ]
    },
    {
      "cell_type": "code",
      "metadata": {
        "id": "CwJ18wYpwlTG",
        "colab_type": "code",
        "outputId": "58032608-967f-4f44-f220-524232b4ce81",
        "colab": {
          "base_uri": "https://localhost:8080/",
          "height": 105
        }
      },
      "source": [
        "model.compile(loss='categorical_crossentropy', optimizer='adam', metrics=['accuracy'])"
      ],
      "execution_count": 16,
      "outputs": [
        {
          "output_type": "stream",
          "text": [
            "WARNING:tensorflow:From /usr/local/lib/python3.6/dist-packages/keras/optimizers.py:793: The name tf.train.Optimizer is deprecated. Please use tf.compat.v1.train.Optimizer instead.\n",
            "\n",
            "WARNING:tensorflow:From /usr/local/lib/python3.6/dist-packages/keras/backend/tensorflow_backend.py:3576: The name tf.log is deprecated. Please use tf.math.log instead.\n",
            "\n"
          ],
          "name": "stdout"
        }
      ]
    },
    {
      "cell_type": "code",
      "metadata": {
        "id": "ugulNZ4PoWI7",
        "colab_type": "code",
        "colab": {}
      },
      "source": [
        "\n"
      ],
      "execution_count": 0,
      "outputs": []
    },
    {
      "cell_type": "code",
      "metadata": {
        "id": "O88cTPXpnfUH",
        "colab_type": "code",
        "colab": {
          "base_uri": "https://localhost:8080/",
          "height": 119
        },
        "outputId": "44194044-d424-4ff0-8c98-71901beb8574"
      },
      "source": [
        "# general helper functions \n",
        "\n",
        "def convert_to_one_hot(Y, C):\n",
        "    Y = np.eye(C)[Y.reshape(-1)]\n",
        "    return Y\n",
        "\n",
        "emoji_dictionary = {\"0\": \"\\u2764\\uFE0F\",    # :heart: prints a black instead of red heart depending on the font\n",
        "                    \"1\": \":baseball:\",\n",
        "                    \"2\": \":smile:\",\n",
        "                    \"3\": \":disappointed:\",\n",
        "                    \"4\": \":fork_and_knife:\"}\n",
        "\n",
        "print(\"printing emoji used in the analysis\")\n",
        "for i in range(5):\n",
        "  print(str(i)+\" \"+str(emoji_dictionary.get(str(i))) +emoji.emojize(emoji_dictionary[str(i)], use_aliases=True))\n",
        "                   \n",
        "def label_to_emoji(label):\n",
        "    \"\"\"\n",
        "    Converts a label (int or string) into the corresponding emoji code (string) ready to be printed\n",
        "    \"\"\"\n",
        "    return emoji.emojize(emoji_dictionary[str(label)], use_aliases=True)"
      ],
      "execution_count": 34,
      "outputs": [
        {
          "output_type": "stream",
          "text": [
            "printing emoji used in the analysis\n",
            "0 ❤️❤️\n",
            "1 :baseball:⚾\n",
            "2 :smile:😄\n",
            "3 :disappointed:😞\n",
            "4 :fork_and_knife:🍴\n"
          ],
          "name": "stdout"
        }
      ]
    },
    {
      "cell_type": "code",
      "metadata": {
        "id": "jqAShuqcyLJ0",
        "colab_type": "code",
        "colab": {
          "base_uri": "https://localhost:8080/",
          "height": 1000
        },
        "outputId": "89dda61e-300d-4376-9116-ec2c18a02f15"
      },
      "source": [
        "X_train_indices = sentences_to_indices(X_train, word_to_index, max_len)\n",
        "Y_train_oh = convert_to_one_hot(Y_train, C = 5)\n",
        "model.fit(X_train_indices, Y_train_oh, epochs = 50, batch_size = 32, shuffle=True)\n"
      ],
      "execution_count": 18,
      "outputs": [
        {
          "output_type": "stream",
          "text": [
            "WARNING:tensorflow:From /usr/local/lib/python3.6/dist-packages/tensorflow_core/python/ops/math_grad.py:1424: where (from tensorflow.python.ops.array_ops) is deprecated and will be removed in a future version.\n",
            "Instructions for updating:\n",
            "Use tf.where in 2.0, which has the same broadcast rule as np.where\n",
            "WARNING:tensorflow:From /usr/local/lib/python3.6/dist-packages/keras/backend/tensorflow_backend.py:1033: The name tf.assign_add is deprecated. Please use tf.compat.v1.assign_add instead.\n",
            "\n",
            "WARNING:tensorflow:From /usr/local/lib/python3.6/dist-packages/keras/backend/tensorflow_backend.py:1020: The name tf.assign is deprecated. Please use tf.compat.v1.assign instead.\n",
            "\n",
            "Epoch 1/50\n",
            "183/183 [==============================] - 2s 12ms/step - loss: 1.5640 - acc: 0.3224\n",
            "Epoch 2/50\n",
            "183/183 [==============================] - 0s 901us/step - loss: 1.5094 - acc: 0.3060\n",
            "Epoch 3/50\n",
            "183/183 [==============================] - 0s 886us/step - loss: 1.4454 - acc: 0.3989\n",
            "Epoch 4/50\n",
            "183/183 [==============================] - 0s 922us/step - loss: 1.3559 - acc: 0.4208\n",
            "Epoch 5/50\n",
            "183/183 [==============================] - 0s 879us/step - loss: 1.2503 - acc: 0.5301\n",
            "Epoch 6/50\n",
            "183/183 [==============================] - 0s 963us/step - loss: 1.0748 - acc: 0.6011\n",
            "Epoch 7/50\n",
            "183/183 [==============================] - 0s 960us/step - loss: 0.9416 - acc: 0.6120\n",
            "Epoch 8/50\n",
            "183/183 [==============================] - 0s 823us/step - loss: 0.7927 - acc: 0.7049\n",
            "Epoch 9/50\n",
            "183/183 [==============================] - 0s 927us/step - loss: 0.6504 - acc: 0.7541\n",
            "Epoch 10/50\n",
            "183/183 [==============================] - 0s 874us/step - loss: 0.6390 - acc: 0.7377\n",
            "Epoch 11/50\n",
            "183/183 [==============================] - 0s 840us/step - loss: 0.4697 - acc: 0.7869\n",
            "Epoch 12/50\n",
            "183/183 [==============================] - 0s 853us/step - loss: 0.4151 - acc: 0.8415\n",
            "Epoch 13/50\n",
            "183/183 [==============================] - 0s 917us/step - loss: 0.3625 - acc: 0.8579\n",
            "Epoch 14/50\n",
            "183/183 [==============================] - 0s 976us/step - loss: 0.3071 - acc: 0.8852\n",
            "Epoch 15/50\n",
            "183/183 [==============================] - 0s 954us/step - loss: 0.2526 - acc: 0.8962\n",
            "Epoch 16/50\n",
            "183/183 [==============================] - 0s 897us/step - loss: 0.2918 - acc: 0.8962\n",
            "Epoch 17/50\n",
            "183/183 [==============================] - 0s 875us/step - loss: 0.2603 - acc: 0.9071\n",
            "Epoch 18/50\n",
            "183/183 [==============================] - 0s 881us/step - loss: 0.2123 - acc: 0.9563\n",
            "Epoch 19/50\n",
            "183/183 [==============================] - 0s 848us/step - loss: 0.2182 - acc: 0.9290\n",
            "Epoch 20/50\n",
            "183/183 [==============================] - 0s 973us/step - loss: 0.2556 - acc: 0.9016\n",
            "Epoch 21/50\n",
            "183/183 [==============================] - 0s 910us/step - loss: 0.1988 - acc: 0.9126\n",
            "Epoch 22/50\n",
            "183/183 [==============================] - 0s 979us/step - loss: 0.2694 - acc: 0.9180\n",
            "Epoch 23/50\n",
            "183/183 [==============================] - 0s 892us/step - loss: 0.2218 - acc: 0.9180\n",
            "Epoch 24/50\n",
            "183/183 [==============================] - 0s 882us/step - loss: 0.1891 - acc: 0.9344\n",
            "Epoch 25/50\n",
            "183/183 [==============================] - 0s 903us/step - loss: 0.1477 - acc: 0.9563\n",
            "Epoch 26/50\n",
            "183/183 [==============================] - 0s 823us/step - loss: 0.1517 - acc: 0.9508\n",
            "Epoch 27/50\n",
            "183/183 [==============================] - 0s 885us/step - loss: 0.0922 - acc: 0.9781\n",
            "Epoch 28/50\n",
            "183/183 [==============================] - 0s 883us/step - loss: 0.0543 - acc: 0.9781\n",
            "Epoch 29/50\n",
            "183/183 [==============================] - 0s 853us/step - loss: 0.0682 - acc: 0.9727\n",
            "Epoch 30/50\n",
            "183/183 [==============================] - 0s 840us/step - loss: 0.0405 - acc: 0.9891\n",
            "Epoch 31/50\n",
            "183/183 [==============================] - 0s 878us/step - loss: 0.0646 - acc: 0.9781\n",
            "Epoch 32/50\n",
            "183/183 [==============================] - 0s 900us/step - loss: 0.0524 - acc: 0.9836\n",
            "Epoch 33/50\n",
            "183/183 [==============================] - 0s 860us/step - loss: 0.0512 - acc: 0.9891\n",
            "Epoch 34/50\n",
            "183/183 [==============================] - 0s 896us/step - loss: 0.1062 - acc: 0.9563\n",
            "Epoch 35/50\n",
            "183/183 [==============================] - 0s 949us/step - loss: 0.1223 - acc: 0.9454\n",
            "Epoch 36/50\n",
            "183/183 [==============================] - 0s 891us/step - loss: 0.2762 - acc: 0.9454\n",
            "Epoch 37/50\n",
            "183/183 [==============================] - 0s 858us/step - loss: 0.3132 - acc: 0.8907\n",
            "Epoch 38/50\n",
            "183/183 [==============================] - 0s 957us/step - loss: 0.2077 - acc: 0.9126\n",
            "Epoch 39/50\n",
            "183/183 [==============================] - 0s 964us/step - loss: 0.1283 - acc: 0.9399\n",
            "Epoch 40/50\n",
            "183/183 [==============================] - 0s 949us/step - loss: 0.1239 - acc: 0.9727\n",
            "Epoch 41/50\n",
            "183/183 [==============================] - 0s 933us/step - loss: 0.0758 - acc: 0.9781\n",
            "Epoch 42/50\n",
            "183/183 [==============================] - 0s 891us/step - loss: 0.0500 - acc: 0.9945\n",
            "Epoch 43/50\n",
            "183/183 [==============================] - 0s 993us/step - loss: 0.0600 - acc: 0.9836\n",
            "Epoch 44/50\n",
            "183/183 [==============================] - 0s 998us/step - loss: 0.0336 - acc: 0.9891\n",
            "Epoch 45/50\n",
            "183/183 [==============================] - 0s 1ms/step - loss: 0.0360 - acc: 0.9891\n",
            "Epoch 46/50\n",
            "183/183 [==============================] - 0s 909us/step - loss: 0.0320 - acc: 0.9891\n",
            "Epoch 47/50\n",
            "183/183 [==============================] - 0s 907us/step - loss: 0.0213 - acc: 0.9891\n",
            "Epoch 48/50\n",
            "183/183 [==============================] - 0s 898us/step - loss: 0.0332 - acc: 0.9836\n",
            "Epoch 49/50\n",
            "183/183 [==============================] - 0s 905us/step - loss: 0.0191 - acc: 0.9945\n",
            "Epoch 50/50\n",
            "183/183 [==============================] - 0s 1ms/step - loss: 0.0124 - acc: 0.9945\n"
          ],
          "name": "stdout"
        },
        {
          "output_type": "execute_result",
          "data": {
            "text/plain": [
              "<keras.callbacks.History at 0x7f4e3fbbd668>"
            ]
          },
          "metadata": {
            "tags": []
          },
          "execution_count": 18
        }
      ]
    },
    {
      "cell_type": "code",
      "metadata": {
        "id": "UN7zpRp7olif",
        "colab_type": "code",
        "colab": {
          "base_uri": "https://localhost:8080/",
          "height": 68
        },
        "outputId": "0c51a37c-32e6-4918-bfff-2c368bc8bb02"
      },
      "source": [
        "loss, acc = model.evaluate(X_train_indices, Y_train_oh)\n",
        "print()\n",
        "print(\"Train accuracy = \", acc)"
      ],
      "execution_count": 19,
      "outputs": [
        {
          "output_type": "stream",
          "text": [
            "183/183 [==============================] - 0s 2ms/step\n",
            "\n",
            "Train accuracy =  0.994535519125683\n"
          ],
          "name": "stdout"
        }
      ]
    },
    {
      "cell_type": "code",
      "metadata": {
        "id": "ieWIw4PFyWzi",
        "colab_type": "code",
        "colab": {
          "base_uri": "https://localhost:8080/",
          "height": 476
        },
        "outputId": "56b4cee0-7821-454f-9575-9f9cb8afb140"
      },
      "source": [
        "X_test_indices = sentences_to_indices(X_test, word_to_index, max_len)\n",
        "Y_test_oh = convert_to_one_hot(Y_test, C = 5)\n",
        "pred = model.predict(X_test_indices)\n",
        "print(pred[0])\n",
        "print(pred[1])\n",
        "loss, acc = model.evaluate(X_test_indices, Y_test_oh)\n",
        "print()\n",
        "print(\"Test accuracy = \", acc)\n",
        "print(\"#######################\")\n",
        "print(\"Printing true and predicted emojis\")\n",
        "for i in range(20):\n",
        "  Y_test_pred = np.argmax(pred[i])\n",
        "  print(\"Expected Emoji\"+label_to_emoji(Y_test[i])+\" Sentence '\"+str(X_test[i])+\"' Predicted Emoji \"+ label_to_emoji(Y_test_pred))"
      ],
      "execution_count": 26,
      "outputs": [
        {
          "output_type": "stream",
          "text": [
            "[9.3361340e-04 1.5431538e-04 1.6648148e-04 1.5034627e-04 9.9859518e-01]\n",
            "[3.5261990e-05 9.7553811e-06 9.2950555e-05 9.9986041e-01 1.4981350e-06]\n",
            "56/56 [==============================] - 0s 244us/step\n",
            "\n",
            "Test accuracy =  0.9821428571428571\n",
            "#######################\n",
            "Printing true and predicted emojis\n",
            "Expected Emoji🍴 Sentence 'I want to eat\t' Predicted Emoji 🍴\n",
            "Expected Emoji😞 Sentence 'he did not answer\t' Predicted Emoji 😞\n",
            "Expected Emoji😄 Sentence 'he got a raise\t' Predicted Emoji 😄\n",
            "Expected Emoji❤️ Sentence 'she got me a present\t' Predicted Emoji ❤️\n",
            "Expected Emoji😄 Sentence 'ha ha ha it was so funny\t' Predicted Emoji 😄\n",
            "Expected Emoji❤️ Sentence 'he is a good friend\t' Predicted Emoji ❤️\n",
            "Expected Emoji❤️ Sentence 'I am upset\t' Predicted Emoji 😞\n",
            "Expected Emoji❤️ Sentence 'We had such a lovely dinner tonight\t' Predicted Emoji ❤️\n",
            "Expected Emoji🍴 Sentence 'where is the food\t' Predicted Emoji 🍴\n",
            "Expected Emoji😄 Sentence 'Stop making this joke ha ha ha\t' Predicted Emoji 😄\n",
            "Expected Emoji⚾ Sentence 'where is the ball\t' Predicted Emoji ⚾\n",
            "Expected Emoji😞 Sentence 'work is hard\t' Predicted Emoji 😞\n",
            "Expected Emoji😞 Sentence 'This girl is messing with me\t' Predicted Emoji 😞\n",
            "Expected Emoji😄 Sentence 'are you serious ha ha\t' Predicted Emoji 😄\n",
            "Expected Emoji⚾ Sentence 'Let us go play baseball\t' Predicted Emoji ⚾\n",
            "Expected Emoji😞 Sentence 'This stupid grader is not working \t' Predicted Emoji 😞\n",
            "Expected Emoji😞 Sentence 'work is horrible\t' Predicted Emoji 😞\n",
            "Expected Emoji😄 Sentence 'Congratulation for having a baby\t' Predicted Emoji 😄\n",
            "Expected Emoji😞 Sentence 'stop messing around\t' Predicted Emoji 😞\n",
            "Expected Emoji🍴 Sentence 'any suggestions for dinner\t' Predicted Emoji 🍴\n"
          ],
          "name": "stdout"
        }
      ]
    },
    {
      "cell_type": "code",
      "metadata": {
        "id": "l8OpJiwHzqDr",
        "colab_type": "code",
        "colab": {}
      },
      "source": [
        ""
      ],
      "execution_count": 0,
      "outputs": []
    }
  ]
}