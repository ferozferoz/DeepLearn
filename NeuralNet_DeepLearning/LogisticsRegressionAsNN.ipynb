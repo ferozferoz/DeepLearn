{
 "cells": [
  {
   "cell_type": "code",
   "execution_count": 2,
   "metadata": {},
   "outputs": [
    {
     "ename": "ModuleNotFoundError",
     "evalue": "No module named 'NNModel'",
     "output_type": "error",
     "traceback": [
      "\u001b[1;31m---------------------------------------------------------------------------\u001b[0m",
      "\u001b[1;31mModuleNotFoundError\u001b[0m                       Traceback (most recent call last)",
      "\u001b[1;32m<ipython-input-2-afcfc66dad34>\u001b[0m in \u001b[0;36m<module>\u001b[1;34m\u001b[0m\n\u001b[0;32m      3\u001b[0m \u001b[1;32mimport\u001b[0m \u001b[0mnumpy\u001b[0m \u001b[1;32mas\u001b[0m \u001b[0mnp\u001b[0m\u001b[1;33m\u001b[0m\u001b[1;33m\u001b[0m\u001b[0m\n\u001b[0;32m      4\u001b[0m \u001b[0msys\u001b[0m\u001b[1;33m.\u001b[0m\u001b[0mpath\u001b[0m\u001b[1;33m.\u001b[0m\u001b[0minsert\u001b[0m\u001b[1;33m(\u001b[0m\u001b[1;36m0\u001b[0m\u001b[1;33m,\u001b[0m \u001b[0mos\u001b[0m\u001b[1;33m.\u001b[0m\u001b[0mpath\u001b[0m\u001b[1;33m.\u001b[0m\u001b[0mabspath\u001b[0m\u001b[1;33m(\u001b[0m\u001b[1;34m'..'\u001b[0m\u001b[1;33m)\u001b[0m\u001b[1;33m)\u001b[0m\u001b[1;33m\u001b[0m\u001b[1;33m\u001b[0m\u001b[0m\n\u001b[1;32m----> 5\u001b[1;33m \u001b[1;32mfrom\u001b[0m \u001b[0mNNPackages\u001b[0m \u001b[1;32mimport\u001b[0m \u001b[0mNNModel\u001b[0m\u001b[1;33m\u001b[0m\u001b[1;33m\u001b[0m\u001b[0m\n\u001b[0m",
      "\u001b[1;32m~\\Documents\\DeepLearn\\NNPackages\\__init__.py\u001b[0m in \u001b[0;36m<module>\u001b[1;34m\u001b[0m\n\u001b[0;32m      1\u001b[0m \u001b[1;31m#from CNNModel import *\u001b[0m\u001b[1;33m\u001b[0m\u001b[1;33m\u001b[0m\u001b[1;33m\u001b[0m\u001b[0m\n\u001b[1;32m----> 2\u001b[1;33m \u001b[1;32mfrom\u001b[0m \u001b[0mNNModel\u001b[0m \u001b[1;32mimport\u001b[0m \u001b[0mNNModel\u001b[0m\u001b[1;33m\u001b[0m\u001b[1;33m\u001b[0m\u001b[0m\n\u001b[0m",
      "\u001b[1;31mModuleNotFoundError\u001b[0m: No module named 'NNModel'"
     ]
    }
   ],
   "source": [
    "import sys\n",
    "import os\n",
    "import numpy as np\n",
    "sys.path.insert(0, os.path.abspath('..'))\n",
    "from NNPackages import NNModel"
   ]
  },
  {
   "cell_type": "code",
   "execution_count": 3,
   "metadata": {},
   "outputs": [
    {
     "ename": "NameError",
     "evalue": "name 'NNMOdel' is not defined",
     "output_type": "error",
     "traceback": [
      "\u001b[1;31m---------------------------------------------------------------------------\u001b[0m",
      "\u001b[1;31mNameError\u001b[0m                                 Traceback (most recent call last)",
      "\u001b[1;32m<ipython-input-3-c74f267bb678>\u001b[0m in \u001b[0;36m<module>\u001b[1;34m\u001b[0m\n\u001b[1;32m----> 1\u001b[1;33m \u001b[0mnnModel\u001b[0m \u001b[1;33m=\u001b[0m \u001b[0mNNMOdel\u001b[0m\u001b[1;33m(\u001b[0m\u001b[1;33m)\u001b[0m\u001b[1;33m\u001b[0m\u001b[1;33m\u001b[0m\u001b[0m\n\u001b[0m\u001b[0;32m      2\u001b[0m \u001b[0mtrain_data_path\u001b[0m \u001b[1;33m=\u001b[0m \u001b[1;34m'neuralnet_dataset/train_catvnoncat.h5'\u001b[0m\u001b[1;33m\u001b[0m\u001b[1;33m\u001b[0m\u001b[0m\n\u001b[0;32m      3\u001b[0m \u001b[0mtest_data_path\u001b[0m \u001b[1;33m=\u001b[0m \u001b[1;34m'neuralnet_dataset/test_catvnoncat.h5'\u001b[0m\u001b[1;33m\u001b[0m\u001b[1;33m\u001b[0m\u001b[0m\n\u001b[0;32m      4\u001b[0m \u001b[1;33m\u001b[0m\u001b[0m\n",
      "\u001b[1;31mNameError\u001b[0m: name 'NNMOdel' is not defined"
     ]
    }
   ],
   "source": [
    "nnModel = NNMOdel()\n",
    "train_data_path = 'neuralnet_dataset/train_catvnoncat.h5'\n",
    "test_data_path = 'neuralnet_dataset/test_catvnoncat.h5'\n",
    "    "
   ]
  },
  {
   "cell_type": "code",
   "execution_count": 4,
   "metadata": {},
   "outputs": [
    {
     "ename": "NameError",
     "evalue": "name 'nnModel' is not defined",
     "output_type": "error",
     "traceback": [
      "\u001b[1;31m---------------------------------------------------------------------------\u001b[0m",
      "\u001b[1;31mNameError\u001b[0m                                 Traceback (most recent call last)",
      "\u001b[1;32m<ipython-input-4-22aa8f2e74d5>\u001b[0m in \u001b[0;36m<module>\u001b[1;34m\u001b[0m\n\u001b[1;32m----> 1\u001b[1;33m \u001b[0mtrain_x_orig\u001b[0m\u001b[1;33m,\u001b[0m \u001b[0mtrain_y_orig\u001b[0m\u001b[1;33m,\u001b[0m \u001b[0mtest_x_orig\u001b[0m\u001b[1;33m,\u001b[0m \u001b[0mtest_y_orig\u001b[0m \u001b[1;33m=\u001b[0m \u001b[0mnnModel\u001b[0m\u001b[1;33m.\u001b[0m\u001b[0m_load_dataset\u001b[0m\u001b[1;33m(\u001b[0m\u001b[0mtrain_data_path\u001b[0m\u001b[1;33m,\u001b[0m\u001b[0mtest_data_path\u001b[0m\u001b[1;33m)\u001b[0m\u001b[1;33m\u001b[0m\u001b[1;33m\u001b[0m\u001b[0m\n\u001b[0m",
      "\u001b[1;31mNameError\u001b[0m: name 'nnModel' is not defined"
     ]
    }
   ],
   "source": [
    "train_x_orig, train_y_orig, test_x_orig, test_y_orig = nnModel._load_dataset(train_data_path,test_data_path)"
   ]
  },
  {
   "cell_type": "code",
   "execution_count": 24,
   "metadata": {},
   "outputs": [
    {
     "name": "stdout",
     "output_type": "stream",
     "text": [
      "y = cat\n"
     ]
    },
    {
     "data": {
      "image/png": "[encoded data removed]",
      "text/plain": [
       "<Figure size 432x288 with 1 Axes>"
      ]
     },
     "metadata": {
      "needs_background": "light"
     },
     "output_type": "display_data"
    }
   ],
   "source": [
    "import matplotlib.pyplot as plt\n",
    "i=29\n",
    "plt.imshow(train_x_orig[i])\n",
    "print(\"y = \"+\"cat\" if train_y_orig[i] == 1 else \"Non Cat\")"
   ]
  },
  {
   "cell_type": "code",
   "execution_count": 25,
   "metadata": {},
   "outputs": [],
   "source": [
    "train_x, train_y, test_x, test_y = nnModel._reshape(train_x_orig, train_y_orig, test_x_orig, test_y_orig)"
   ]
  },
  {
   "cell_type": "code",
   "execution_count": 26,
   "metadata": {},
   "outputs": [
    {
     "name": "stdout",
     "output_type": "stream",
     "text": [
      "cost after iteration 0 == 0.680990\n"
     ]
    },
    {
     "name": "stderr",
     "output_type": "stream",
     "text": [
      "C:\\Users\\feroz\\Documents\\DeepLearn\\NNPackages\\NNModel.py:44: RuntimeWarning: divide by zero encountered in log\n",
      "  cost = -(1/m)*np.sum(Y * np.log(A) + (1-Y) * np.log(1-A))\n",
      "C:\\Users\\feroz\\Documents\\DeepLearn\\NNPackages\\NNModel.py:44: RuntimeWarning: invalid value encountered in multiply\n",
      "  cost = -(1/m)*np.sum(Y * np.log(A) + (1-Y) * np.log(1-A))\n"
     ]
    },
    {
     "name": "stdout",
     "output_type": "stream",
     "text": [
      "cost after iteration 100 == 13.025418\n",
      "cost after iteration 200 == 10.117959\n",
      "cost after iteration 300 == nan\n",
      "cost after iteration 400 == 0.201508\n",
      "cost after iteration 500 == 0.103301\n",
      "cost after iteration 600 == 0.092045\n",
      "cost after iteration 700 == 0.024885\n",
      "cost after iteration 800 == 0.016821\n",
      "cost after iteration 900 == 0.013325\n",
      "cost after iteration 1000 == 0.011308\n",
      "cost after iteration 1100 == 0.009964\n",
      "cost after iteration 1200 == 0.008983\n",
      "cost after iteration 1300 == 0.008226\n",
      "cost after iteration 1400 == 0.007617\n",
      "cost after iteration 1500 == 0.007113\n",
      "cost after iteration 1600 == 0.006688\n",
      "cost after iteration 1700 == 0.006322\n",
      "cost after iteration 1800 == 0.006003\n",
      "cost after iteration 1900 == 0.005722\n",
      "train accuracy: 100.0 %\n",
      "test accuracy: 66.0 %\n"
     ]
    }
   ],
   "source": [
    "d = nnModel._model(train_x, train_y, test_x, test_y, 2000, 0.05)"
   ]
  },
  {
   "cell_type": "code",
   "execution_count": 27,
   "metadata": {},
   "outputs": [
    {
     "data": {
      "text/plain": [
       "Text(0, 0.5, 'cost')"
      ]
     },
     "execution_count": 27,
     "metadata": {},
     "output_type": "execute_result"
    },
    {
     "data": {
      "image/png": "[encoded data removed]",
      "text/plain": [
       "<Figure size 432x288 with 1 Axes>"
      ]
     },
     "metadata": {
      "needs_background": "light"
     },
     "output_type": "display_data"
    }
   ],
   "source": [
    "costs = d[\"costs\"]\n",
    "plt.plot(costs)\n",
    "plt.xlabel(\"Iterations(in 00s)\")\n",
    "plt.ylabel(\"cost\")\n",
    "\n"
   ]
  },
  {
   "cell_type": "code",
   "execution_count": 32,
   "metadata": {},
   "outputs": [
    {
     "name": "stdout",
     "output_type": "stream",
     "text": [
      "cost after iteration 0 == 0.714460\n",
      "cost after iteration 100 == 0.686438\n",
      "cost after iteration 200 == 0.994327\n",
      "cost after iteration 300 == 0.626686\n",
      "cost after iteration 400 == 0.521762\n",
      "cost after iteration 500 == 0.386118\n",
      "cost after iteration 600 == 0.236911\n",
      "cost after iteration 700 == 0.153518\n",
      "cost after iteration 800 == 0.134918\n",
      "cost after iteration 900 == 0.124614\n",
      "cost after iteration 1000 == 0.116159\n",
      "cost after iteration 1100 == 0.108904\n",
      "cost after iteration 1200 == 0.102543\n",
      "cost after iteration 1300 == 0.096891\n",
      "cost after iteration 1400 == 0.091824\n",
      "cost after iteration 1500 == 0.087251\n",
      "cost after iteration 1600 == 0.083100\n",
      "cost after iteration 1700 == 0.079314\n",
      "cost after iteration 1800 == 0.075847\n",
      "cost after iteration 1900 == 0.072660\n",
      "train accuracy: 99.52153110047847 %\n",
      "test accuracy: 70.0 %\n",
      "cost after iteration 0 == 0.670915\n",
      "cost after iteration 100 == 0.595394\n",
      "cost after iteration 200 == 0.560106\n",
      "cost after iteration 300 == 0.533492\n",
      "cost after iteration 400 == 0.511510\n",
      "cost after iteration 500 == 0.492560\n",
      "cost after iteration 600 == 0.475797\n",
      "cost after iteration 700 == 0.460712\n",
      "cost after iteration 800 == 0.446968\n",
      "cost after iteration 900 == 0.434333\n",
      "cost after iteration 1000 == 0.422633\n",
      "cost after iteration 1100 == 0.411738\n",
      "cost after iteration 1200 == 0.401545\n",
      "cost after iteration 1300 == 0.391972\n",
      "cost after iteration 1400 == 0.382950\n",
      "cost after iteration 1500 == 0.374423\n",
      "cost after iteration 1600 == 0.366343\n",
      "cost after iteration 1700 == 0.358668\n",
      "cost after iteration 1800 == 0.351363\n",
      "cost after iteration 1900 == 0.344397\n",
      "train accuracy: 90.43062200956938 %\n",
      "test accuracy: 68.0 %\n",
      "cost after iteration 0 == 0.950094\n",
      "cost after iteration 100 == 0.654961\n",
      "cost after iteration 200 == 0.646946\n",
      "cost after iteration 300 == 0.639652\n",
      "cost after iteration 400 == 0.632949\n",
      "cost after iteration 500 == 0.626741\n",
      "cost after iteration 600 == 0.620950\n",
      "cost after iteration 700 == 0.615514\n",
      "cost after iteration 800 == 0.610385\n",
      "cost after iteration 900 == 0.605522\n",
      "cost after iteration 1000 == 0.600892\n",
      "cost after iteration 1100 == 0.596468\n",
      "cost after iteration 1200 == 0.592228\n",
      "cost after iteration 1300 == 0.588154\n",
      "cost after iteration 1400 == 0.584229\n",
      "cost after iteration 1500 == 0.580441\n",
      "cost after iteration 1600 == 0.576777\n",
      "cost after iteration 1700 == 0.573229\n",
      "cost after iteration 1800 == 0.569787\n",
      "cost after iteration 1900 == 0.566444\n",
      "train accuracy: 71.77033492822967 %\n",
      "test accuracy: 40.0 %\n"
     ]
    },
    {
     "data": {
      "image/png": "[encoded data removed]",
      "text/plain": [
       "<Figure size 432x288 with 1 Axes>"
      ]
     },
     "metadata": {
      "needs_background": "light"
     },
     "output_type": "display_data"
    }
   ],
   "source": [
    "learning_rates = [0.01, 0.001, 0.0001]\n",
    "models = {}\n",
    "\n",
    "for i in learning_rates:\n",
    "    models[str(i)] = nnModel._model(train_x, train_y, test_x, test_y, 2000, i)\n",
    "for i in learning_rates:\n",
    "    plt.plot(np.squeeze(models[str(i)][\"costs\"]), label= str(models[str(i)][\"learning_rate\"]))\n",
    "plt.ylabel('cost')\n",
    "plt.xlabel('iterations')\n",
    "legend = plt.legend(loc='upper center', shadow=True)"
   ]
  },
  {
   "cell_type": "code",
   "execution_count": null,
   "metadata": {},
   "outputs": [],
   "source": []
  }
 ],
 "metadata": {
  "kernelspec": {
   "display_name": "Python 3",
   "language": "python",
   "name": "python3"
  },
  "language_info": {
   "codemirror_mode": {
    "name": "ipython",
    "version": 3
   },
   "file_extension": ".py",
   "mimetype": "text/x-python",
   "name": "python",
   "nbconvert_exporter": "python",
   "pygments_lexer": "ipython3",
   "version": "3.7.3"
  }
 },
 "nbformat": 4,
 "nbformat_minor": 2
}
