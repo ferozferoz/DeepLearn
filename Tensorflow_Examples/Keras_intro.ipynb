{
  "nbformat": 4,
  "nbformat_minor": 0,
  "metadata": {
    "colab": {
      "name": "Keras_intro.ipynb",
      "provenance": [],
      "include_colab_link": true
    },
    "kernelspec": {
      "name": "python3",
      "display_name": "Python 3"
    }
  },
  "cells": [
    {
      "cell_type": "markdown",
      "metadata": {
        "id": "view-in-github",
        "colab_type": "text"
      },
      "source": [
        "<a href=\"https://colab.research.google.com/github/ferozferoz/DeepLearn/blob/master/Keras_intro.ipynb\" target=\"_parent\"><img src=\"https://colab.research.google.com/assets/colab-badge.svg\" alt=\"Open In Colab\"/></a>"
      ]
    },
    {
      "cell_type": "code",
      "metadata": {
        "id": "-sY5UCgZA9GY",
        "colab_type": "code",
        "colab": {}
      },
      "source": [
        "from tensorflow.keras.models import Sequential\n",
        "from tensorflow.keras.layers import Dense,Activation\n",
        "import numpy as np\n"
      ],
      "execution_count": 0,
      "outputs": []
    },
    {
      "cell_type": "code",
      "metadata": {
        "id": "owII7E16B8Ui",
        "colab_type": "code",
        "colab": {}
      },
      "source": [
        "model = Sequential([ Dense(32, activation='relu',input_dim=100), Dense(1,activation='sigmoid') ])\n",
        "model.compile(optimizer=\"rmsprop\", loss = 'binary_crossentropy', metrics=['accuracy'])\n"
      ],
      "execution_count": 0,
      "outputs": []
    },
    {
      "cell_type": "code",
      "metadata": {
        "id": "uNlL9BfgD02N",
        "colab_type": "code",
        "colab": {
          "base_uri": "https://localhost:8080/",
          "height": 561
        },
        "outputId": "92cdedbd-98cf-41b0-91b5-cf61326b6000"
      },
      "source": [
        "data = np.random.random(size=(1000,100))\n",
        "label = np.random.randint(2,size=(1000,1))\n",
        "print(label[1:10,])\n",
        "model.fit(data,label,epochs=10,batch_size=32)\n",
        "score = model.evaluate(data,label)\n",
        "score"
      ],
      "execution_count": 20,
      "outputs": [
        {
          "output_type": "stream",
          "text": [
            "[[0]\n",
            " [0]\n",
            " [0]\n",
            " [0]\n",
            " [0]\n",
            " [1]\n",
            " [1]\n",
            " [1]\n",
            " [0]]\n",
            "Train on 1000 samples\n",
            "Epoch 1/10\n",
            "1000/1000 [==============================] - 0s 43us/sample - loss: 0.6988 - acc: 0.5160\n",
            "Epoch 2/10\n",
            "1000/1000 [==============================] - 0s 43us/sample - loss: 0.6894 - acc: 0.5400\n",
            "Epoch 3/10\n",
            "1000/1000 [==============================] - 0s 45us/sample - loss: 0.6827 - acc: 0.5480\n",
            "Epoch 4/10\n",
            "1000/1000 [==============================] - 0s 42us/sample - loss: 0.6780 - acc: 0.5670\n",
            "Epoch 5/10\n",
            "1000/1000 [==============================] - 0s 38us/sample - loss: 0.6732 - acc: 0.5800\n",
            "Epoch 6/10\n",
            "1000/1000 [==============================] - 0s 41us/sample - loss: 0.6765 - acc: 0.5770\n",
            "Epoch 7/10\n",
            "1000/1000 [==============================] - 0s 41us/sample - loss: 0.6696 - acc: 0.5930\n",
            "Epoch 8/10\n",
            "1000/1000 [==============================] - 0s 42us/sample - loss: 0.6666 - acc: 0.5980\n",
            "Epoch 9/10\n",
            "1000/1000 [==============================] - 0s 42us/sample - loss: 0.6633 - acc: 0.5880\n",
            "Epoch 10/10\n",
            "1000/1000 [==============================] - 0s 39us/sample - loss: 0.6608 - acc: 0.6120\n",
            "1000/1000 [==============================] - 0s 23us/sample - loss: 0.6520 - acc: 0.6320\n"
          ],
          "name": "stdout"
        },
        {
          "output_type": "execute_result",
          "data": {
            "text/plain": [
              "[0.6519973669052124, 0.632]"
            ]
          },
          "metadata": {
            "tags": []
          },
          "execution_count": 20
        }
      ]
    },
    {
      "cell_type": "code",
      "metadata": {
        "id": "80waslbhFY4K",
        "colab_type": "code",
        "colab": {
          "base_uri": "https://localhost:8080/",
          "height": 170
        },
        "outputId": "4223a01d-230c-40e7-fe55-fcfb1896ecb0"
      },
      "source": [
        "label_new = model.predict_classes(data)\n",
        "label_new[1:10,]"
      ],
      "execution_count": 21,
      "outputs": [
        {
          "output_type": "execute_result",
          "data": {
            "text/plain": [
              "array([[1],\n",
              "       [0],\n",
              "       [0],\n",
              "       [0],\n",
              "       [1],\n",
              "       [0],\n",
              "       [0],\n",
              "       [0],\n",
              "       [1]], dtype=int32)"
            ]
          },
          "metadata": {
            "tags": []
          },
          "execution_count": 21
        }
      ]
    },
    {
      "cell_type": "code",
      "metadata": {
        "id": "i3UJpG9PFhb-",
        "colab_type": "code",
        "colab": {}
      },
      "source": [
        ""
      ],
      "execution_count": 0,
      "outputs": []
    }
  ]
}