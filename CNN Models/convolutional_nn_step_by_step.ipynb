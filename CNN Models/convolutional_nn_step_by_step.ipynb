{
 "cells": [
  {
   "cell_type": "code",
   "execution_count": 20,
   "metadata": {},
   "outputs": [],
   "source": [
    "import numpy as np\n",
    "import matplotlib.pyplot as plt"
   ]
  },
  {
   "cell_type": "code",
   "execution_count": 21,
   "metadata": {},
   "outputs": [],
   "source": [
    "def zero_pad(X,pad):\n",
    "    x_pad = np.pad(X,((0,0),(pad,pad),(pad,pad),(0,0)),'constant',constant_values=0)\n",
    "    return x_pad"
   ]
  },
  {
   "cell_type": "code",
   "execution_count": 22,
   "metadata": {},
   "outputs": [
    {
     "name": "stdout",
     "output_type": "stream",
     "text": [
      "(4, 3, 3, 2)\n"
     ]
    },
    {
     "data": {
      "text/plain": [
       "<matplotlib.image.AxesImage at 0x2d1646bf828>"
      ]
     },
     "execution_count": 22,
     "metadata": {},
     "output_type": "execute_result"
    },
    {
     "data": {
      "image/png": "[encoded data removed]",
      "text/plain": [
       "<Figure size 432x288 with 2 Axes>"
      ]
     },
     "metadata": {
      "needs_background": "light"
     },
     "output_type": "display_data"
    }
   ],
   "source": [
    "# testing padding \n",
    "np.random.seed(1)\n",
    "x = np.random.randn(4,3,3,2)\n",
    "print(x.shape)\n",
    "x_pad = zero_pad(x,1)\n",
    "#print(x_pad.shape)\n",
    "#print(x)\n",
    "#print(x_pad[1,1])\n",
    "fig, axarr = plt.subplots(1, 2)\n",
    "axarr[0].set_title('x')\n",
    "axarr[0].imshow(x[0,:,:,0])\n",
    "axarr[1].set_title('x_pad')\n",
    "axarr[1].imshow(x_pad[0,:,:,0])\n"
   ]
  },
  {
   "cell_type": "code",
   "execution_count": 23,
   "metadata": {},
   "outputs": [],
   "source": [
    "def conv_single_step(a_slice_prev,W,b):\n",
    "    s = np.multiply(a_slice_prev, W) + b\n",
    "    Z = np.sum(s)\n",
    "    return Z"
   ]
  },
  {
   "cell_type": "code",
   "execution_count": 28,
   "metadata": {},
   "outputs": [],
   "source": [
    "def conv_forward(a_prev,W,b,hyperparameter):\n",
    "    (m,n_H_prev,n_W_prev,n_C_prev) = a_prev.shape\n",
    "    (f, f, n_C_prev, n_C) = W.shape\n",
    "    stride = hyperparameter['stride']\n",
    "    pad = hyperparameter['pad']\n",
    "    n_H = int((n_H_prev - f + 2 * pad) / stride) + 1\n",
    "    n_W = int((n_W_prev - f + 2 * pad) / stride) + 1\n",
    "    Z = np.zeros((m, n_H, n_W, n_C))\n",
    "    a_prev_pad = zero_pad(a_prev, pad)\n",
    "    for i in range(m):\n",
    "        A_prev_pad = a_prev_pad[i]\n",
    "        for h in range(n_H):\n",
    "            for w in range(n_W):\n",
    "                for c in range(n_C):\n",
    "                    vertical_start = h*stride\n",
    "                    vertical_end = vertical_start+f\n",
    "                    horizontal_start =w*stride\n",
    "                    horizontal_end =horizontal_start+f\n",
    "                    a_slice_prev = A_prev_pad[vertical_start:vertical_end,horizontal_start:horizontal_end,:]\n",
    "                    Z[i,h,w,c] = conv_single_step(a_slice_prev,W[:,:,:,c],b[:,:,:,c])\n",
    "    assert(Z.shape == (m, n_H, n_W, n_C))\n",
    "    cache = (A_prev, W, b, hparameters)\n",
    "    return Z, cache"
   ]
  },
  {
   "cell_type": "code",
   "execution_count": 29,
   "metadata": {},
   "outputs": [
    {
     "name": "stdout",
     "output_type": "stream",
     "text": [
      "[-0.20075807  0.18656139  0.41005165]\n"
     ]
    }
   ],
   "source": [
    "np.random.seed(1)\n",
    "A_prev = np.random.randn(10, 4, 4, 3)\n",
    "W = np.random.randn(2, 2, 3, 8)\n",
    "b = np.random.randn(1, 1, 1, 8)\n",
    "hparameters = {\"pad\" : 2,\n",
    "               \"stride\": 1}\n",
    "\n",
    "Z, cache_conv = conv_forward(A_prev, W, b, hparameters)\n",
    "print(cache_conv[0][1][2][3])"
   ]
  },
  {
   "cell_type": "code",
   "execution_count": 35,
   "metadata": {},
   "outputs": [],
   "source": [
    "def pool_fwd(a_prev,hyperparam,mode= \"MAX\"):\n",
    "    (m,n_h_prev,n_w_prev,n_c_prev) = a_prev.shape\n",
    "    f = hyperparam['f']\n",
    "    stride = hyperparam['stride']\n",
    "    n_h = int ((n_h_prev-f) / stride) +1\n",
    "    n_w = int ((n_w_prev-f) / stride) +1\n",
    "    n_c = n_c_prev\n",
    "    A = np.zeros((m,n_h,n_w,n_c))\n",
    "    for i in range(m):\n",
    "        for h in range(n_h):\n",
    "            for w in range(n_w):\n",
    "                for c in range(n_c):\n",
    "                    vertical_start = h * stride\n",
    "                    vertical_end = vertical_start + f\n",
    "                    horizontal_start = w * stride\n",
    "                    horizontal_end = horizontal_start + f \n",
    "                    window_array = a_prev[i,vertical_start:vertical_end,horizontal_start:horizontal_end,c]\n",
    "                    if(mode==\"MAX\"):\n",
    "                        A[i,h,w,c] = np.max(window_array)\n",
    "                    elif(mode==\"AVG\"):\n",
    "                        A[i,h,w,c] = np.avg(window_array)\n",
    "    cache = (a_prev,hyperparam)\n",
    "    \n",
    "    assert(A.shape == (m, n_h, n_w, n_c))\n",
    "    \n",
    "    return (A, cache)"
   ]
  },
  {
   "cell_type": "code",
   "execution_count": 36,
   "metadata": {},
   "outputs": [
    {
     "name": "stdout",
     "output_type": "stream",
     "text": [
      "mode = max\n",
      "A = [[[[1.74481176 1.6924546  2.10025514]]]\n",
      "\n",
      "\n",
      " [[[1.19891788 1.51981682 2.18557541]]]]\n",
      "\n",
      "mode = average\n",
      "A = [[[[0. 0. 0.]]]\n",
      "\n",
      "\n",
      " [[[0. 0. 0.]]]]\n"
     ]
    }
   ],
   "source": [
    "np.random.seed(1)\n",
    "A_prev = np.random.randn(2, 4, 4, 3)\n",
    "hparameters = {\"stride\" : 1, \"f\": 4}\n",
    "\n",
    "A, cache = pool_fwd(A_prev, hparameters)\n",
    "print(\"mode = max\")\n",
    "print(\"A =\", A)\n",
    "print()\n",
    "A, cache = pool_fwd(A_prev, hparameters, mode = \"average\")\n",
    "print(\"mode = average\")\n",
    "print(\"A =\", A)"
   ]
  },
  {
   "cell_type": "code",
   "execution_count": null,
   "metadata": {},
   "outputs": [],
   "source": []
  },
  {
   "cell_type": "code",
   "execution_count": null,
   "metadata": {},
   "outputs": [],
   "source": []
  },
  {
   "cell_type": "code",
   "execution_count": null,
   "metadata": {},
   "outputs": [],
   "source": []
  }
 ],
 "metadata": {
  "kernelspec": {
   "display_name": "Python 3",
   "language": "python",
   "name": "python3"
  },
  "language_info": {
   "codemirror_mode": {
    "name": "ipython",
    "version": 3
   },
   "file_extension": ".py",
   "mimetype": "text/x-python",
   "name": "python",
   "nbconvert_exporter": "python",
   "pygments_lexer": "ipython3",
   "version": "3.7.3"
  }
 },
 "nbformat": 4,
 "nbformat_minor": 2
}
